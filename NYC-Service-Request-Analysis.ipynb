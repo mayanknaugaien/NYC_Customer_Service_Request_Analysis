{
 "cells": [
  {
   "cell_type": "markdown",
   "id": "2e34e44e-1de9-4905-965a-196524a822ff",
   "metadata": {},
   "source": [
    "# 1. Understand the dataset:"
   ]
  },
  {
   "cell_type": "code",
   "execution_count": 1,
   "id": "954558ee-2934-433f-9e44-eb862b06aa7c",
   "metadata": {},
   "outputs": [],
   "source": [
    "# Importing required libraries-------------------\n",
    "\n",
    "import numpy as np\n",
    "import pandas as pd\n",
    "import matplotlib\n",
    "import matplotlib.pyplot as plt\n",
    "import seaborn as sns\n",
    "import datetime\n",
    "import calendar\n"
   ]
  },
  {
   "cell_type": "code",
   "execution_count": 2,
   "id": "18032b8a-5708-415e-ad01-2926679a06c1",
   "metadata": {},
   "outputs": [
    {
     "name": "stderr",
     "output_type": "stream",
     "text": [
      "C:\\Users\\mayan\\AppData\\Local\\Temp\\ipykernel_2560\\3025317303.py:3: DtypeWarning: Columns (48,49) have mixed types. Specify dtype option on import or set low_memory=False.\n",
      "  data = pd.read_csv('311_Service_Requests_from_2010_to_Present.csv')\n"
     ]
    }
   ],
   "source": [
    "# Reading data------------------------------------\n",
    "\n",
    "data = pd.read_csv('311_Service_Requests_from_2010_to_Present.csv')\n"
   ]
  },
  {
   "cell_type": "code",
   "execution_count": 3,
   "id": "e288a753-083e-4597-bdaf-c2edeb17a7a3",
   "metadata": {},
   "outputs": [
    {
     "data": {
      "text/plain": [
       "Index(['Unique Key', 'Created Date', 'Closed Date', 'Agency', 'Agency Name',\n",
       "       'Complaint Type', 'Descriptor', 'Location Type', 'Incident Zip',\n",
       "       'Incident Address', 'Street Name', 'Cross Street 1', 'Cross Street 2',\n",
       "       'Intersection Street 1', 'Intersection Street 2', 'Address Type',\n",
       "       'City', 'Landmark', 'Facility Type', 'Status', 'Due Date',\n",
       "       'Resolution Description', 'Resolution Action Updated Date',\n",
       "       'Community Board', 'Borough', 'X Coordinate (State Plane)',\n",
       "       'Y Coordinate (State Plane)', 'Park Facility Name', 'Park Borough',\n",
       "       'School Name', 'School Number', 'School Region', 'School Code',\n",
       "       'School Phone Number', 'School Address', 'School City', 'School State',\n",
       "       'School Zip', 'School Not Found', 'School or Citywide Complaint',\n",
       "       'Vehicle Type', 'Taxi Company Borough', 'Taxi Pick Up Location',\n",
       "       'Bridge Highway Name', 'Bridge Highway Direction', 'Road Ramp',\n",
       "       'Bridge Highway Segment', 'Garage Lot Name', 'Ferry Direction',\n",
       "       'Ferry Terminal Name', 'Latitude', 'Longitude', 'Location'],\n",
       "      dtype='object')"
      ]
     },
     "execution_count": 3,
     "metadata": {},
     "output_type": "execute_result"
    }
   ],
   "source": [
    "# Looking for features (columns) ------------------\n",
    "\n",
    "data.columns\n"
   ]
  },
  {
   "cell_type": "code",
   "execution_count": 4,
   "id": "79d524a7-c81f-4d0c-99cb-35ee265f433c",
   "metadata": {},
   "outputs": [
    {
     "name": "stdout",
     "output_type": "stream",
     "text": [
      "<class 'pandas.core.frame.DataFrame'>\n",
      "RangeIndex: 364558 entries, 0 to 364557\n",
      "Data columns (total 53 columns):\n",
      " #   Column                          Non-Null Count   Dtype  \n",
      "---  ------                          --------------   -----  \n",
      " 0   Unique Key                      364558 non-null  int64  \n",
      " 1   Created Date                    364558 non-null  object \n",
      " 2   Closed Date                     362177 non-null  object \n",
      " 3   Agency                          364558 non-null  object \n",
      " 4   Agency Name                     364558 non-null  object \n",
      " 5   Complaint Type                  364558 non-null  object \n",
      " 6   Descriptor                      358057 non-null  object \n",
      " 7   Location Type                   364425 non-null  object \n",
      " 8   Incident Zip                    361560 non-null  float64\n",
      " 9   Incident Address                312859 non-null  object \n",
      " 10  Street Name                     312859 non-null  object \n",
      " 11  Cross Street 1                  307370 non-null  object \n",
      " 12  Cross Street 2                  306753 non-null  object \n",
      " 13  Intersection Street 1           51120 non-null   object \n",
      " 14  Intersection Street 2           50512 non-null   object \n",
      " 15  Address Type                    361306 non-null  object \n",
      " 16  City                            361561 non-null  object \n",
      " 17  Landmark                        375 non-null     object \n",
      " 18  Facility Type                   362169 non-null  object \n",
      " 19  Status                          364558 non-null  object \n",
      " 20  Due Date                        364555 non-null  object \n",
      " 21  Resolution Description          364558 non-null  object \n",
      " 22  Resolution Action Updated Date  362156 non-null  object \n",
      " 23  Community Board                 364558 non-null  object \n",
      " 24  Borough                         364558 non-null  object \n",
      " 25  X Coordinate (State Plane)      360528 non-null  float64\n",
      " 26  Y Coordinate (State Plane)      360528 non-null  float64\n",
      " 27  Park Facility Name              364558 non-null  object \n",
      " 28  Park Borough                    364558 non-null  object \n",
      " 29  School Name                     364558 non-null  object \n",
      " 30  School Number                   364558 non-null  object \n",
      " 31  School Region                   364557 non-null  object \n",
      " 32  School Code                     364557 non-null  object \n",
      " 33  School Phone Number             364558 non-null  object \n",
      " 34  School Address                  364558 non-null  object \n",
      " 35  School City                     364558 non-null  object \n",
      " 36  School State                    364558 non-null  object \n",
      " 37  School Zip                      364557 non-null  object \n",
      " 38  School Not Found                364558 non-null  object \n",
      " 39  School or Citywide Complaint    0 non-null       float64\n",
      " 40  Vehicle Type                    0 non-null       float64\n",
      " 41  Taxi Company Borough            0 non-null       float64\n",
      " 42  Taxi Pick Up Location           0 non-null       float64\n",
      " 43  Bridge Highway Name             297 non-null     object \n",
      " 44  Bridge Highway Direction        297 non-null     object \n",
      " 45  Road Ramp                       262 non-null     object \n",
      " 46  Bridge Highway Segment          262 non-null     object \n",
      " 47  Garage Lot Name                 0 non-null       float64\n",
      " 48  Ferry Direction                 1 non-null       object \n",
      " 49  Ferry Terminal Name             2 non-null       object \n",
      " 50  Latitude                        360528 non-null  float64\n",
      " 51  Longitude                       360528 non-null  float64\n",
      " 52  Location                        360528 non-null  object \n",
      "dtypes: float64(10), int64(1), object(42)\n",
      "memory usage: 147.4+ MB\n"
     ]
    }
   ],
   "source": [
    "# Checking the data types and entries (if Nan)------------------------\n",
    "\n",
    "data.info()"
   ]
  },
  {
   "cell_type": "code",
   "execution_count": 5,
   "id": "4f3b9dcc-bbf1-4bbf-a5b4-d1bbe691ed5a",
   "metadata": {},
   "outputs": [
    {
     "data": {
      "text/html": [
       "<div>\n",
       "<style scoped>\n",
       "    .dataframe tbody tr th:only-of-type {\n",
       "        vertical-align: middle;\n",
       "    }\n",
       "\n",
       "    .dataframe tbody tr th {\n",
       "        vertical-align: top;\n",
       "    }\n",
       "\n",
       "    .dataframe thead th {\n",
       "        text-align: right;\n",
       "    }\n",
       "</style>\n",
       "<table border=\"1\" class=\"dataframe\">\n",
       "  <thead>\n",
       "    <tr style=\"text-align: right;\">\n",
       "      <th></th>\n",
       "      <th>Unique Key</th>\n",
       "      <th>Created Date</th>\n",
       "      <th>Closed Date</th>\n",
       "      <th>Agency</th>\n",
       "      <th>Agency Name</th>\n",
       "      <th>Complaint Type</th>\n",
       "      <th>Descriptor</th>\n",
       "      <th>Location Type</th>\n",
       "      <th>Incident Zip</th>\n",
       "      <th>Incident Address</th>\n",
       "      <th>Street Name</th>\n",
       "      <th>Cross Street 1</th>\n",
       "      <th>Cross Street 2</th>\n",
       "      <th>Intersection Street 1</th>\n",
       "      <th>Intersection Street 2</th>\n",
       "      <th>Address Type</th>\n",
       "      <th>City</th>\n",
       "      <th>Landmark</th>\n",
       "      <th>Facility Type</th>\n",
       "      <th>Status</th>\n",
       "      <th>Due Date</th>\n",
       "      <th>Resolution Description</th>\n",
       "      <th>Resolution Action Updated Date</th>\n",
       "      <th>Community Board</th>\n",
       "      <th>Borough</th>\n",
       "      <th>X Coordinate (State Plane)</th>\n",
       "      <th>Y Coordinate (State Plane)</th>\n",
       "      <th>Park Facility Name</th>\n",
       "      <th>Park Borough</th>\n",
       "      <th>School Name</th>\n",
       "      <th>School Number</th>\n",
       "      <th>School Region</th>\n",
       "      <th>School Code</th>\n",
       "      <th>School Phone Number</th>\n",
       "      <th>School Address</th>\n",
       "      <th>School City</th>\n",
       "      <th>School State</th>\n",
       "      <th>School Zip</th>\n",
       "      <th>School Not Found</th>\n",
       "      <th>School or Citywide Complaint</th>\n",
       "      <th>Vehicle Type</th>\n",
       "      <th>Taxi Company Borough</th>\n",
       "      <th>Taxi Pick Up Location</th>\n",
       "      <th>Bridge Highway Name</th>\n",
       "      <th>Bridge Highway Direction</th>\n",
       "      <th>Road Ramp</th>\n",
       "      <th>Bridge Highway Segment</th>\n",
       "      <th>Garage Lot Name</th>\n",
       "      <th>Ferry Direction</th>\n",
       "      <th>Ferry Terminal Name</th>\n",
       "      <th>Latitude</th>\n",
       "      <th>Longitude</th>\n",
       "      <th>Location</th>\n",
       "    </tr>\n",
       "  </thead>\n",
       "  <tbody>\n",
       "    <tr>\n",
       "      <th>259632</th>\n",
       "      <td>30587600</td>\n",
       "      <td>05/10/2015 01:44:49 PM</td>\n",
       "      <td>05/10/2015 11:15:17 PM</td>\n",
       "      <td>NYPD</td>\n",
       "      <td>New York City Police Department</td>\n",
       "      <td>Illegal Parking</td>\n",
       "      <td>Blocked Hydrant</td>\n",
       "      <td>Street/Sidewalk</td>\n",
       "      <td>11434.0</td>\n",
       "      <td>115-20 BEDELL STREET</td>\n",
       "      <td>BEDELL STREET</td>\n",
       "      <td>115 ROAD</td>\n",
       "      <td>116 AVENUE</td>\n",
       "      <td>NaN</td>\n",
       "      <td>NaN</td>\n",
       "      <td>ADDRESS</td>\n",
       "      <td>JAMAICA</td>\n",
       "      <td>NaN</td>\n",
       "      <td>Precinct</td>\n",
       "      <td>Closed</td>\n",
       "      <td>05/10/2015 09:44:49 PM</td>\n",
       "      <td>The Police Department responded to the complai...</td>\n",
       "      <td>05/10/2015 11:15:17 PM</td>\n",
       "      <td>12 QUEENS</td>\n",
       "      <td>QUEENS</td>\n",
       "      <td>1043597.0</td>\n",
       "      <td>189800.0</td>\n",
       "      <td>Unspecified</td>\n",
       "      <td>QUEENS</td>\n",
       "      <td>Unspecified</td>\n",
       "      <td>Unspecified</td>\n",
       "      <td>Unspecified</td>\n",
       "      <td>Unspecified</td>\n",
       "      <td>Unspecified</td>\n",
       "      <td>Unspecified</td>\n",
       "      <td>Unspecified</td>\n",
       "      <td>Unspecified</td>\n",
       "      <td>Unspecified</td>\n",
       "      <td>N</td>\n",
       "      <td>NaN</td>\n",
       "      <td>NaN</td>\n",
       "      <td>NaN</td>\n",
       "      <td>NaN</td>\n",
       "      <td>NaN</td>\n",
       "      <td>NaN</td>\n",
       "      <td>NaN</td>\n",
       "      <td>NaN</td>\n",
       "      <td>NaN</td>\n",
       "      <td>NaN</td>\n",
       "      <td>NaN</td>\n",
       "      <td>40.687435</td>\n",
       "      <td>-73.786008</td>\n",
       "      <td>(40.687434959660386, -73.78600801119404)</td>\n",
       "    </tr>\n",
       "    <tr>\n",
       "      <th>329300</th>\n",
       "      <td>30007016</td>\n",
       "      <td>02/22/2015 12:43:29 AM</td>\n",
       "      <td>02/22/2015 04:46:51 AM</td>\n",
       "      <td>NYPD</td>\n",
       "      <td>New York City Police Department</td>\n",
       "      <td>Noise - Commercial</td>\n",
       "      <td>Loud Music/Party</td>\n",
       "      <td>Store/Commercial</td>\n",
       "      <td>10012.0</td>\n",
       "      <td>356 BOWERY</td>\n",
       "      <td>BOWERY</td>\n",
       "      <td>EAST 3 STREET</td>\n",
       "      <td>COOPER SQUARE</td>\n",
       "      <td>NaN</td>\n",
       "      <td>NaN</td>\n",
       "      <td>ADDRESS</td>\n",
       "      <td>NEW YORK</td>\n",
       "      <td>NaN</td>\n",
       "      <td>Precinct</td>\n",
       "      <td>Closed</td>\n",
       "      <td>02/22/2015 08:43:29 AM</td>\n",
       "      <td>The Police Department responded to the complai...</td>\n",
       "      <td>02/22/2015 04:46:51 AM</td>\n",
       "      <td>02 MANHATTAN</td>\n",
       "      <td>MANHATTAN</td>\n",
       "      <td>986553.0</td>\n",
       "      <td>204039.0</td>\n",
       "      <td>Unspecified</td>\n",
       "      <td>MANHATTAN</td>\n",
       "      <td>Unspecified</td>\n",
       "      <td>Unspecified</td>\n",
       "      <td>Unspecified</td>\n",
       "      <td>Unspecified</td>\n",
       "      <td>Unspecified</td>\n",
       "      <td>Unspecified</td>\n",
       "      <td>Unspecified</td>\n",
       "      <td>Unspecified</td>\n",
       "      <td>Unspecified</td>\n",
       "      <td>N</td>\n",
       "      <td>NaN</td>\n",
       "      <td>NaN</td>\n",
       "      <td>NaN</td>\n",
       "      <td>NaN</td>\n",
       "      <td>NaN</td>\n",
       "      <td>NaN</td>\n",
       "      <td>NaN</td>\n",
       "      <td>NaN</td>\n",
       "      <td>NaN</td>\n",
       "      <td>NaN</td>\n",
       "      <td>NaN</td>\n",
       "      <td>40.726716</td>\n",
       "      <td>-73.991691</td>\n",
       "      <td>(40.72671631810096, -73.9916910112681)</td>\n",
       "    </tr>\n",
       "    <tr>\n",
       "      <th>74246</th>\n",
       "      <td>31795690</td>\n",
       "      <td>10/19/2015 10:31:25 PM</td>\n",
       "      <td>10/20/2015 01:31:16 AM</td>\n",
       "      <td>NYPD</td>\n",
       "      <td>New York City Police Department</td>\n",
       "      <td>Noise - Commercial</td>\n",
       "      <td>Loud Music/Party</td>\n",
       "      <td>Club/Bar/Restaurant</td>\n",
       "      <td>10040.0</td>\n",
       "      <td>65 SHERMAN AVENUE</td>\n",
       "      <td>SHERMAN AVENUE</td>\n",
       "      <td>THAYER STREET</td>\n",
       "      <td>DYCKMAN STREET</td>\n",
       "      <td>NaN</td>\n",
       "      <td>NaN</td>\n",
       "      <td>ADDRESS</td>\n",
       "      <td>NEW YORK</td>\n",
       "      <td>NaN</td>\n",
       "      <td>Precinct</td>\n",
       "      <td>Closed</td>\n",
       "      <td>10/20/2015 06:31:25 AM</td>\n",
       "      <td>The Police Department responded to the complai...</td>\n",
       "      <td>10/20/2015 01:30:26 AM</td>\n",
       "      <td>12 MANHATTAN</td>\n",
       "      <td>MANHATTAN</td>\n",
       "      <td>1004502.0</td>\n",
       "      <td>253803.0</td>\n",
       "      <td>Unspecified</td>\n",
       "      <td>MANHATTAN</td>\n",
       "      <td>Unspecified</td>\n",
       "      <td>Unspecified</td>\n",
       "      <td>Unspecified</td>\n",
       "      <td>Unspecified</td>\n",
       "      <td>Unspecified</td>\n",
       "      <td>Unspecified</td>\n",
       "      <td>Unspecified</td>\n",
       "      <td>Unspecified</td>\n",
       "      <td>Unspecified</td>\n",
       "      <td>N</td>\n",
       "      <td>NaN</td>\n",
       "      <td>NaN</td>\n",
       "      <td>NaN</td>\n",
       "      <td>NaN</td>\n",
       "      <td>NaN</td>\n",
       "      <td>NaN</td>\n",
       "      <td>NaN</td>\n",
       "      <td>NaN</td>\n",
       "      <td>NaN</td>\n",
       "      <td>NaN</td>\n",
       "      <td>NaN</td>\n",
       "      <td>40.863282</td>\n",
       "      <td>-73.926783</td>\n",
       "      <td>(40.863282054634674, -73.92678280024691)</td>\n",
       "    </tr>\n",
       "    <tr>\n",
       "      <th>95419</th>\n",
       "      <td>31642748</td>\n",
       "      <td>09/29/2015 12:10:12 PM</td>\n",
       "      <td>09/29/2015 02:56:25 PM</td>\n",
       "      <td>NYPD</td>\n",
       "      <td>New York City Police Department</td>\n",
       "      <td>Blocked Driveway</td>\n",
       "      <td>No Access</td>\n",
       "      <td>Street/Sidewalk</td>\n",
       "      <td>11355.0</td>\n",
       "      <td>146-09 56 ROAD</td>\n",
       "      <td>56 ROAD</td>\n",
       "      <td>146 STREET</td>\n",
       "      <td>148 STREET</td>\n",
       "      <td>NaN</td>\n",
       "      <td>NaN</td>\n",
       "      <td>ADDRESS</td>\n",
       "      <td>FLUSHING</td>\n",
       "      <td>NaN</td>\n",
       "      <td>Precinct</td>\n",
       "      <td>Closed</td>\n",
       "      <td>09/29/2015 08:10:12 PM</td>\n",
       "      <td>The Police Department responded and upon arriv...</td>\n",
       "      <td>09/29/2015 02:56:25 PM</td>\n",
       "      <td>07 QUEENS</td>\n",
       "      <td>QUEENS</td>\n",
       "      <td>1033935.0</td>\n",
       "      <td>211026.0</td>\n",
       "      <td>Unspecified</td>\n",
       "      <td>QUEENS</td>\n",
       "      <td>Unspecified</td>\n",
       "      <td>Unspecified</td>\n",
       "      <td>Unspecified</td>\n",
       "      <td>Unspecified</td>\n",
       "      <td>Unspecified</td>\n",
       "      <td>Unspecified</td>\n",
       "      <td>Unspecified</td>\n",
       "      <td>Unspecified</td>\n",
       "      <td>Unspecified</td>\n",
       "      <td>N</td>\n",
       "      <td>NaN</td>\n",
       "      <td>NaN</td>\n",
       "      <td>NaN</td>\n",
       "      <td>NaN</td>\n",
       "      <td>NaN</td>\n",
       "      <td>NaN</td>\n",
       "      <td>NaN</td>\n",
       "      <td>NaN</td>\n",
       "      <td>NaN</td>\n",
       "      <td>NaN</td>\n",
       "      <td>NaN</td>\n",
       "      <td>40.745755</td>\n",
       "      <td>-73.820690</td>\n",
       "      <td>(40.745754630682704, -73.82069024446848)</td>\n",
       "    </tr>\n",
       "  </tbody>\n",
       "</table>\n",
       "</div>"
      ],
      "text/plain": [
       "        Unique Key            Created Date             Closed Date Agency  \\\n",
       "259632    30587600  05/10/2015 01:44:49 PM  05/10/2015 11:15:17 PM   NYPD   \n",
       "329300    30007016  02/22/2015 12:43:29 AM  02/22/2015 04:46:51 AM   NYPD   \n",
       "74246     31795690  10/19/2015 10:31:25 PM  10/20/2015 01:31:16 AM   NYPD   \n",
       "95419     31642748  09/29/2015 12:10:12 PM  09/29/2015 02:56:25 PM   NYPD   \n",
       "\n",
       "                            Agency Name      Complaint Type        Descriptor  \\\n",
       "259632  New York City Police Department     Illegal Parking   Blocked Hydrant   \n",
       "329300  New York City Police Department  Noise - Commercial  Loud Music/Party   \n",
       "74246   New York City Police Department  Noise - Commercial  Loud Music/Party   \n",
       "95419   New York City Police Department    Blocked Driveway         No Access   \n",
       "\n",
       "              Location Type  Incident Zip      Incident Address  \\\n",
       "259632      Street/Sidewalk       11434.0  115-20 BEDELL STREET   \n",
       "329300     Store/Commercial       10012.0            356 BOWERY   \n",
       "74246   Club/Bar/Restaurant       10040.0     65 SHERMAN AVENUE   \n",
       "95419       Street/Sidewalk       11355.0        146-09 56 ROAD   \n",
       "\n",
       "           Street Name Cross Street 1  Cross Street 2 Intersection Street 1  \\\n",
       "259632   BEDELL STREET       115 ROAD      116 AVENUE                   NaN   \n",
       "329300          BOWERY  EAST 3 STREET   COOPER SQUARE                   NaN   \n",
       "74246   SHERMAN AVENUE  THAYER STREET  DYCKMAN STREET                   NaN   \n",
       "95419          56 ROAD     146 STREET      148 STREET                   NaN   \n",
       "\n",
       "       Intersection Street 2 Address Type      City Landmark Facility Type  \\\n",
       "259632                   NaN      ADDRESS   JAMAICA      NaN      Precinct   \n",
       "329300                   NaN      ADDRESS  NEW YORK      NaN      Precinct   \n",
       "74246                    NaN      ADDRESS  NEW YORK      NaN      Precinct   \n",
       "95419                    NaN      ADDRESS  FLUSHING      NaN      Precinct   \n",
       "\n",
       "        Status                Due Date  \\\n",
       "259632  Closed  05/10/2015 09:44:49 PM   \n",
       "329300  Closed  02/22/2015 08:43:29 AM   \n",
       "74246   Closed  10/20/2015 06:31:25 AM   \n",
       "95419   Closed  09/29/2015 08:10:12 PM   \n",
       "\n",
       "                                   Resolution Description  \\\n",
       "259632  The Police Department responded to the complai...   \n",
       "329300  The Police Department responded to the complai...   \n",
       "74246   The Police Department responded to the complai...   \n",
       "95419   The Police Department responded and upon arriv...   \n",
       "\n",
       "       Resolution Action Updated Date Community Board    Borough  \\\n",
       "259632         05/10/2015 11:15:17 PM       12 QUEENS     QUEENS   \n",
       "329300         02/22/2015 04:46:51 AM    02 MANHATTAN  MANHATTAN   \n",
       "74246          10/20/2015 01:30:26 AM    12 MANHATTAN  MANHATTAN   \n",
       "95419          09/29/2015 02:56:25 PM       07 QUEENS     QUEENS   \n",
       "\n",
       "        X Coordinate (State Plane)  Y Coordinate (State Plane)  \\\n",
       "259632                   1043597.0                    189800.0   \n",
       "329300                    986553.0                    204039.0   \n",
       "74246                    1004502.0                    253803.0   \n",
       "95419                    1033935.0                    211026.0   \n",
       "\n",
       "       Park Facility Name Park Borough  School Name School Number  \\\n",
       "259632        Unspecified       QUEENS  Unspecified   Unspecified   \n",
       "329300        Unspecified    MANHATTAN  Unspecified   Unspecified   \n",
       "74246         Unspecified    MANHATTAN  Unspecified   Unspecified   \n",
       "95419         Unspecified       QUEENS  Unspecified   Unspecified   \n",
       "\n",
       "       School Region  School Code School Phone Number School Address  \\\n",
       "259632   Unspecified  Unspecified         Unspecified    Unspecified   \n",
       "329300   Unspecified  Unspecified         Unspecified    Unspecified   \n",
       "74246    Unspecified  Unspecified         Unspecified    Unspecified   \n",
       "95419    Unspecified  Unspecified         Unspecified    Unspecified   \n",
       "\n",
       "        School City School State   School Zip School Not Found  \\\n",
       "259632  Unspecified  Unspecified  Unspecified                N   \n",
       "329300  Unspecified  Unspecified  Unspecified                N   \n",
       "74246   Unspecified  Unspecified  Unspecified                N   \n",
       "95419   Unspecified  Unspecified  Unspecified                N   \n",
       "\n",
       "        School or Citywide Complaint  Vehicle Type  Taxi Company Borough  \\\n",
       "259632                           NaN           NaN                   NaN   \n",
       "329300                           NaN           NaN                   NaN   \n",
       "74246                            NaN           NaN                   NaN   \n",
       "95419                            NaN           NaN                   NaN   \n",
       "\n",
       "        Taxi Pick Up Location Bridge Highway Name Bridge Highway Direction  \\\n",
       "259632                    NaN                 NaN                      NaN   \n",
       "329300                    NaN                 NaN                      NaN   \n",
       "74246                     NaN                 NaN                      NaN   \n",
       "95419                     NaN                 NaN                      NaN   \n",
       "\n",
       "       Road Ramp Bridge Highway Segment  Garage Lot Name Ferry Direction  \\\n",
       "259632       NaN                    NaN              NaN             NaN   \n",
       "329300       NaN                    NaN              NaN             NaN   \n",
       "74246        NaN                    NaN              NaN             NaN   \n",
       "95419        NaN                    NaN              NaN             NaN   \n",
       "\n",
       "       Ferry Terminal Name   Latitude  Longitude  \\\n",
       "259632                 NaN  40.687435 -73.786008   \n",
       "329300                 NaN  40.726716 -73.991691   \n",
       "74246                  NaN  40.863282 -73.926783   \n",
       "95419                  NaN  40.745755 -73.820690   \n",
       "\n",
       "                                        Location  \n",
       "259632  (40.687434959660386, -73.78600801119404)  \n",
       "329300    (40.72671631810096, -73.9916910112681)  \n",
       "74246   (40.863282054634674, -73.92678280024691)  \n",
       "95419   (40.745754630682704, -73.82069024446848)  "
      ]
     },
     "execution_count": 5,
     "metadata": {},
     "output_type": "execute_result"
    }
   ],
   "source": [
    "# Setting the option to view all columns of the dataset and view the data for any 4 random entries---------\n",
    "\n",
    "pd.set_option('display.max_columns',None)\n",
    "data.sample(4)"
   ]
  },
  {
   "cell_type": "code",
   "execution_count": 6,
   "id": "c2271083-3fa2-4983-b5ca-fe62db83513c",
   "metadata": {},
   "outputs": [],
   "source": [
    "# Dropping columns and saving it in another data frame----------------------\n",
    "\n",
    "data_mod = data.drop(columns=['Unique Key'],axis=1)"
   ]
  },
  {
   "cell_type": "code",
   "execution_count": 7,
   "id": "a69b7f98-4b01-4495-8041-f7f612cd6d33",
   "metadata": {},
   "outputs": [
    {
     "data": {
      "text/plain": [
       "Index(['Created Date', 'Closed Date', 'Agency', 'Agency Name',\n",
       "       'Complaint Type', 'Descriptor', 'Location Type', 'Incident Zip',\n",
       "       'Incident Address', 'Street Name', 'Cross Street 1', 'Cross Street 2',\n",
       "       'Intersection Street 1', 'Intersection Street 2', 'Address Type',\n",
       "       'City', 'Landmark', 'Facility Type', 'Status', 'Due Date',\n",
       "       'Resolution Description', 'Resolution Action Updated Date',\n",
       "       'Community Board', 'Borough', 'X Coordinate (State Plane)',\n",
       "       'Y Coordinate (State Plane)', 'Park Facility Name', 'Park Borough',\n",
       "       'School Name', 'School Number', 'School Region', 'School Code',\n",
       "       'School Phone Number', 'School Address', 'School City', 'School State',\n",
       "       'School Zip', 'School Not Found', 'School or Citywide Complaint',\n",
       "       'Vehicle Type', 'Taxi Company Borough', 'Taxi Pick Up Location',\n",
       "       'Bridge Highway Name', 'Bridge Highway Direction', 'Road Ramp',\n",
       "       'Bridge Highway Segment', 'Garage Lot Name', 'Ferry Direction',\n",
       "       'Ferry Terminal Name', 'Latitude', 'Longitude', 'Location'],\n",
       "      dtype='object')"
      ]
     },
     "execution_count": 7,
     "metadata": {},
     "output_type": "execute_result"
    }
   ],
   "source": [
    "# Looking the column information in new data frame--------------------------\n",
    "\n",
    "data_mod.columns"
   ]
  },
  {
   "cell_type": "code",
   "execution_count": 8,
   "id": "c4f9d670-ee9d-4801-9ea9-441f11ba908c",
   "metadata": {},
   "outputs": [
    {
     "data": {
      "text/plain": [
       "array(['NYPD'], dtype=object)"
      ]
     },
     "execution_count": 8,
     "metadata": {},
     "output_type": "execute_result"
    }
   ],
   "source": [
    "# To evaluate distinguishable outcomes belong to this feature---------------------\n",
    "\n",
    "pd.unique(data['Agency'])"
   ]
  },
  {
   "cell_type": "code",
   "execution_count": 9,
   "id": "137b67a3-efd9-44bd-a1f3-7e0094b84738",
   "metadata": {},
   "outputs": [
    {
     "data": {
      "text/plain": [
       "Agency\n",
       "NYPD    364558\n",
       "Name: count, dtype: int64"
      ]
     },
     "execution_count": 9,
     "metadata": {},
     "output_type": "execute_result"
    }
   ],
   "source": [
    "# Frequency of the different outcomes -------------------------\n",
    "\n",
    "data['Agency'].value_counts()"
   ]
  },
  {
   "cell_type": "code",
   "execution_count": 10,
   "id": "3982ef2f-5611-4962-810e-ec465c65c7dd",
   "metadata": {},
   "outputs": [],
   "source": [
    "data_mod = data_mod.drop(columns=['Agency'],axis=1)"
   ]
  },
  {
   "cell_type": "code",
   "execution_count": 11,
   "id": "109dba22-fac0-4e0b-a01f-0018849c9569",
   "metadata": {},
   "outputs": [
    {
     "data": {
      "text/plain": [
       "array(['New York City Police Department', 'NYPD',\n",
       "       'Internal Affairs Bureau'], dtype=object)"
      ]
     },
     "execution_count": 11,
     "metadata": {},
     "output_type": "execute_result"
    }
   ],
   "source": [
    "pd.unique(data['Agency Name'])"
   ]
  },
  {
   "cell_type": "code",
   "execution_count": 12,
   "id": "12851ef4-8e86-4b70-bcee-4cd2a3f0cb7f",
   "metadata": {},
   "outputs": [
    {
     "data": {
      "text/plain": [
       "Agency Name\n",
       "New York City Police Department    364548\n",
       "Internal Affairs Bureau                 8\n",
       "NYPD                                    2\n",
       "Name: count, dtype: int64"
      ]
     },
     "execution_count": 12,
     "metadata": {},
     "output_type": "execute_result"
    }
   ],
   "source": [
    "data['Agency Name'].value_counts()"
   ]
  },
  {
   "cell_type": "code",
   "execution_count": 13,
   "id": "03d2fef4-0256-4bfb-84ed-41187988416d",
   "metadata": {},
   "outputs": [
    {
     "data": {
      "text/plain": [
       "Complaint Type\n",
       "Blocked Driveway           100881\n",
       "Illegal Parking             92679\n",
       "Noise - Street/Sidewalk     51692\n",
       "Noise - Commercial          44109\n",
       "Derelict Vehicle            21661\n",
       "Name: count, dtype: int64"
      ]
     },
     "execution_count": 13,
     "metadata": {},
     "output_type": "execute_result"
    }
   ],
   "source": [
    "data['Complaint Type'].value_counts().head(5)"
   ]
  },
  {
   "cell_type": "code",
   "execution_count": 14,
   "id": "d78cbba2-770e-4db2-a863-9f82cebbb18b",
   "metadata": {},
   "outputs": [
    {
     "data": {
      "text/plain": [
       "Descriptor\n",
       "No Access                        75888\n",
       "Loud Music/Party                 69708\n",
       "Posted Parking Sign Violation    27200\n",
       "Partial Access                   24993\n",
       "Loud Talking                     23810\n",
       "Name: count, dtype: int64"
      ]
     },
     "execution_count": 14,
     "metadata": {},
     "output_type": "execute_result"
    }
   ],
   "source": [
    "data.Descriptor.value_counts().head(5)"
   ]
  },
  {
   "cell_type": "code",
   "execution_count": 15,
   "id": "810715ab-8405-4eb4-9714-d9036d698421",
   "metadata": {},
   "outputs": [
    {
     "data": {
      "text/plain": [
       "Location Type\n",
       "Street/Sidewalk               301372\n",
       "Store/Commercial               25217\n",
       "Club/Bar/Restaurant            21527\n",
       "Residential Building/House      8869\n",
       "Name: count, dtype: int64"
      ]
     },
     "execution_count": 15,
     "metadata": {},
     "output_type": "execute_result"
    }
   ],
   "source": [
    "data['Location Type'].value_counts().head(4)"
   ]
  },
  {
   "cell_type": "code",
   "execution_count": 16,
   "id": "8916e515-85a6-402a-9571-b32cbcfa9489",
   "metadata": {},
   "outputs": [
    {
     "data": {
      "text/plain": [
       "Incident Zip\n",
       "11385.0    6396\n",
       "11368.0    5384\n",
       "11234.0    5199\n",
       "11211.0    4854\n",
       "Name: count, dtype: int64"
      ]
     },
     "execution_count": 16,
     "metadata": {},
     "output_type": "execute_result"
    }
   ],
   "source": [
    "data['Incident Zip'].value_counts().head(4)"
   ]
  },
  {
   "cell_type": "code",
   "execution_count": 17,
   "id": "3e2a5b33-a2a3-42ea-be2a-470524f2178e",
   "metadata": {},
   "outputs": [
    {
     "data": {
      "text/plain": [
       "Incident Address\n",
       "1207 BEACH AVENUE          1014\n",
       "2117 3 AVENUE               660\n",
       "78-15 PARSONS BOULEVARD     637\n",
       "89 MOORE STREET             512\n",
       "Name: count, dtype: int64"
      ]
     },
     "execution_count": 17,
     "metadata": {},
     "output_type": "execute_result"
    }
   ],
   "source": [
    "data['Incident Address'].value_counts().head(4)"
   ]
  },
  {
   "cell_type": "code",
   "execution_count": 18,
   "id": "478cb469-418a-4071-9af7-5b2abc381385",
   "metadata": {},
   "outputs": [
    {
     "data": {
      "text/plain": [
       "Street Name\n",
       "BROADWAY          4122\n",
       "3 AVENUE          1804\n",
       "SHERMAN AVENUE    1390\n",
       "BEACH AVENUE      1262\n",
       "BEDFORD AVENUE    1226\n",
       "Name: count, dtype: int64"
      ]
     },
     "execution_count": 18,
     "metadata": {},
     "output_type": "execute_result"
    }
   ],
   "source": [
    "data['Street Name'].value_counts().head(5)"
   ]
  },
  {
   "cell_type": "code",
   "execution_count": 19,
   "id": "83c3319d-4508-4bf1-9981-ebfd0658233a",
   "metadata": {},
   "outputs": [
    {
     "data": {
      "text/plain": [
       "Cross Street 1\n",
       "BEND        5123\n",
       "BROADWAY    5055\n",
       "3 AVENUE    4013\n",
       "5 AVENUE    3564\n",
       "Name: count, dtype: int64"
      ]
     },
     "execution_count": 19,
     "metadata": {},
     "output_type": "execute_result"
    }
   ],
   "source": [
    "data['Cross Street 1'].value_counts().head(4)"
   ]
  },
  {
   "cell_type": "code",
   "execution_count": 20,
   "id": "ba5ddfbc-2ef4-4c15-98e0-8fc4aee22fa8",
   "metadata": {},
   "outputs": [
    {
     "data": {
      "text/plain": [
       "Cross Street 2\n",
       "BEND        5376\n",
       "BROADWAY    4240\n",
       "8 AVENUE    3360\n",
       "DEAD END    2737\n",
       "Name: count, dtype: int64"
      ]
     },
     "execution_count": 20,
     "metadata": {},
     "output_type": "execute_result"
    }
   ],
   "source": [
    "data['Cross Street 2'].value_counts().head(4)"
   ]
  },
  {
   "cell_type": "code",
   "execution_count": 21,
   "id": "efa0b988-8a45-47f9-a246-70512efb811f",
   "metadata": {},
   "outputs": [
    {
     "data": {
      "text/plain": [
       "Intersection Street 1\n",
       "BROADWAY      757\n",
       "170 STREET    506\n",
       "6 AVENUE      379\n",
       "44 STREET     362\n",
       "Name: count, dtype: int64"
      ]
     },
     "execution_count": 21,
     "metadata": {},
     "output_type": "execute_result"
    }
   ],
   "source": [
    "data['Intersection Street 1'].value_counts().head(4)"
   ]
  },
  {
   "cell_type": "code",
   "execution_count": 22,
   "id": "cf186cfd-b30e-4b88-a605-98f99527ddd2",
   "metadata": {},
   "outputs": [
    {
     "data": {
      "text/plain": [
       "Intersection Street 2\n",
       "BROADWAY    1525\n",
       "2 AVENUE     823\n",
       "6 AVENUE     783\n",
       "5 AVENUE     619\n",
       "Name: count, dtype: int64"
      ]
     },
     "execution_count": 22,
     "metadata": {},
     "output_type": "execute_result"
    }
   ],
   "source": [
    "data['Intersection Street 2'].value_counts().head(4)"
   ]
  },
  {
   "cell_type": "code",
   "execution_count": 23,
   "id": "e618fa1f-6516-4356-b8f0-804c1a42bddd",
   "metadata": {},
   "outputs": [
    {
     "data": {
      "text/plain": [
       "Address Type\n",
       "ADDRESS         292699\n",
       "INTERSECTION     50514\n",
       "BLOCKFACE        13786\n",
       "LATLONG           3931\n",
       "Name: count, dtype: int64"
      ]
     },
     "execution_count": 23,
     "metadata": {},
     "output_type": "execute_result"
    }
   ],
   "source": [
    "data['Address Type'].value_counts().head(4)"
   ]
  },
  {
   "cell_type": "code",
   "execution_count": 24,
   "id": "70db8715-80ec-40e7-85bb-d07da8b22c3b",
   "metadata": {},
   "outputs": [
    {
     "data": {
      "text/plain": [
       "City\n",
       "BROOKLYN         118862\n",
       "NEW YORK          77312\n",
       "BRONX             49171\n",
       "STATEN ISLAND     15340\n",
       "Name: count, dtype: int64"
      ]
     },
     "execution_count": 24,
     "metadata": {},
     "output_type": "execute_result"
    }
   ],
   "source": [
    "data['City'].value_counts().head(4)"
   ]
  },
  {
   "cell_type": "code",
   "execution_count": 25,
   "id": "1b3161a3-ec13-4ddb-89d3-424cb46e10d7",
   "metadata": {},
   "outputs": [
    {
     "data": {
      "text/plain": [
       "Landmark\n",
       "CENTRAL PARK              71\n",
       "PROSPECT PARK             22\n",
       "WASHINGTON SQUARE PARK    16\n",
       "UNION SQUARE PARK         14\n",
       "SUNSET PARK               13\n",
       "Name: count, dtype: int64"
      ]
     },
     "execution_count": 25,
     "metadata": {},
     "output_type": "execute_result"
    }
   ],
   "source": [
    "data.Landmark.value_counts().head(5)"
   ]
  },
  {
   "cell_type": "code",
   "execution_count": 26,
   "id": "fc2c0d64-a697-41a6-b1cb-a5f93a02902c",
   "metadata": {},
   "outputs": [
    {
     "data": {
      "text/plain": [
       "Facility Type\n",
       "Precinct    362169\n",
       "Name: count, dtype: int64"
      ]
     },
     "execution_count": 26,
     "metadata": {},
     "output_type": "execute_result"
    }
   ],
   "source": [
    "data['Facility Type'].value_counts()"
   ]
  },
  {
   "cell_type": "code",
   "execution_count": 27,
   "id": "cf8fc262-2760-436c-a62c-75a931b5dddf",
   "metadata": {},
   "outputs": [
    {
     "data": {
      "text/plain": [
       "Status\n",
       "Closed      362114\n",
       "Open          1640\n",
       "Assigned       802\n",
       "Draft            2\n",
       "Name: count, dtype: int64"
      ]
     },
     "execution_count": 27,
     "metadata": {},
     "output_type": "execute_result"
    }
   ],
   "source": [
    "data.Status.value_counts()"
   ]
  },
  {
   "cell_type": "code",
   "execution_count": 28,
   "id": "4ea784a1-99f1-4e9d-80c0-83bfd47b781c",
   "metadata": {},
   "outputs": [
    {
     "data": {
      "text/plain": [
       "Due Date\n",
       "06/04/2015 06:16:23 AM    3\n",
       "08/09/2015 06:16:46 AM    3\n",
       "03/02/2015 06:27:37 AM    3\n",
       "08/16/2015 06:49:03 AM    3\n",
       "Name: count, dtype: int64"
      ]
     },
     "execution_count": 28,
     "metadata": {},
     "output_type": "execute_result"
    }
   ],
   "source": [
    "data['Due Date'].value_counts().head(4)"
   ]
  },
  {
   "cell_type": "code",
   "execution_count": 29,
   "id": "f69daf58-9bac-4522-8ca3-e0e1fb502b14",
   "metadata": {},
   "outputs": [
    {
     "data": {
      "text/plain": [
       "Resolution Description\n",
       "The Police Department responded to the complaint and with the information available observed no evidence of the violation at that time.    107051\n",
       "The Police Department responded to the complaint and took action to fix the condition.                                                      72917\n",
       "The Police Department responded and upon arrival those responsible for the condition were gone.                                             71281\n",
       "The Police Department responded to the complaint and determined that police action was not necessary.                                       47612\n",
       "Name: count, dtype: int64"
      ]
     },
     "execution_count": 29,
     "metadata": {},
     "output_type": "execute_result"
    }
   ],
   "source": [
    "data['Resolution Description'].value_counts().head(4)"
   ]
  },
  {
   "cell_type": "code",
   "execution_count": 30,
   "id": "1f54c741-fd35-490c-a20b-bb203e815d04",
   "metadata": {},
   "outputs": [
    {
     "data": {
      "text/plain": [
       "School Name\n",
       "Unspecified                        364557\n",
       "Alley Pond Park - Nature Center         1\n",
       "Name: count, dtype: int64"
      ]
     },
     "execution_count": 30,
     "metadata": {},
     "output_type": "execute_result"
    }
   ],
   "source": [
    "data['School Name'].value_counts()"
   ]
  },
  {
   "cell_type": "code",
   "execution_count": 31,
   "id": "bbd24aa9-94ea-46a2-9876-351ac11c3e0d",
   "metadata": {},
   "outputs": [
    {
     "data": {
      "text/plain": [
       "School Number\n",
       "Unspecified    364557\n",
       "Q001                1\n",
       "Name: count, dtype: int64"
      ]
     },
     "execution_count": 31,
     "metadata": {},
     "output_type": "execute_result"
    }
   ],
   "source": [
    "data['School Number'].value_counts()"
   ]
  },
  {
   "cell_type": "code",
   "execution_count": 32,
   "id": "8b26e36d-6c01-4736-a64c-d658f4492c3a",
   "metadata": {},
   "outputs": [
    {
     "data": {
      "text/plain": [
       "School Region\n",
       "Unspecified    364557\n",
       "Name: count, dtype: int64"
      ]
     },
     "execution_count": 32,
     "metadata": {},
     "output_type": "execute_result"
    }
   ],
   "source": [
    "data['School Region'].value_counts()"
   ]
  },
  {
   "cell_type": "code",
   "execution_count": 33,
   "id": "2e554dca-d413-4ba4-a2a9-d6c5efa6b2ff",
   "metadata": {},
   "outputs": [
    {
     "data": {
      "text/plain": [
       "School Not Found\n",
       "N    364558\n",
       "Name: count, dtype: int64"
      ]
     },
     "execution_count": 33,
     "metadata": {},
     "output_type": "execute_result"
    }
   ],
   "source": [
    "data['School Not Found'].value_counts()"
   ]
  },
  {
   "cell_type": "code",
   "execution_count": 34,
   "id": "6981830f-2a05-454c-a1d9-acfe9e4f83ee",
   "metadata": {},
   "outputs": [
    {
     "data": {
      "text/plain": [
       "School Code\n",
       "Unspecified    364557\n",
       "Name: count, dtype: int64"
      ]
     },
     "execution_count": 34,
     "metadata": {},
     "output_type": "execute_result"
    }
   ],
   "source": [
    "data['School Code'].value_counts()"
   ]
  },
  {
   "cell_type": "code",
   "execution_count": 35,
   "id": "9c0968b3-6011-4c36-bedd-fcdb2977387e",
   "metadata": {},
   "outputs": [
    {
     "data": {
      "text/plain": [
       "School Phone Number\n",
       "Unspecified    364557\n",
       "7182176034          1\n",
       "Name: count, dtype: int64"
      ]
     },
     "execution_count": 35,
     "metadata": {},
     "output_type": "execute_result"
    }
   ],
   "source": [
    "data['School Phone Number'].value_counts()"
   ]
  },
  {
   "cell_type": "code",
   "execution_count": 36,
   "id": "eba9c987-cd14-4ed1-857b-ee270ed7e49d",
   "metadata": {},
   "outputs": [
    {
     "data": {
      "text/plain": [
       "School Address\n",
       "Unspecified                                     364557\n",
       "Grand Central Parkway, near the soccer field         1\n",
       "Name: count, dtype: int64"
      ]
     },
     "execution_count": 36,
     "metadata": {},
     "output_type": "execute_result"
    }
   ],
   "source": [
    "data['School Address'].value_counts()"
   ]
  },
  {
   "cell_type": "code",
   "execution_count": 37,
   "id": "a6b72f07-d8e9-4d99-8b50-dea344c544b2",
   "metadata": {},
   "outputs": [
    {
     "data": {
      "text/plain": [
       "School City\n",
       "Unspecified    364557\n",
       "QUEENS              1\n",
       "Name: count, dtype: int64"
      ]
     },
     "execution_count": 37,
     "metadata": {},
     "output_type": "execute_result"
    }
   ],
   "source": [
    "data['School City'].value_counts()"
   ]
  },
  {
   "cell_type": "code",
   "execution_count": 38,
   "id": "84b0b0e3-3114-449c-883a-7c800270e1d0",
   "metadata": {},
   "outputs": [
    {
     "data": {
      "text/plain": [
       "School State\n",
       "Unspecified    364557\n",
       "NY                  1\n",
       "Name: count, dtype: int64"
      ]
     },
     "execution_count": 38,
     "metadata": {},
     "output_type": "execute_result"
    }
   ],
   "source": [
    "data['School State'].value_counts()"
   ]
  },
  {
   "cell_type": "code",
   "execution_count": 39,
   "id": "e2f76952-4233-44c0-acbd-680b36df9c3c",
   "metadata": {},
   "outputs": [
    {
     "data": {
      "text/plain": [
       "School Zip\n",
       "Unspecified    364557\n",
       "Name: count, dtype: int64"
      ]
     },
     "execution_count": 39,
     "metadata": {},
     "output_type": "execute_result"
    }
   ],
   "source": [
    "data['School Zip'].value_counts()"
   ]
  },
  {
   "cell_type": "code",
   "execution_count": 40,
   "id": "5a7f4438-a9cb-4b2e-a9b3-1bf30636bdd0",
   "metadata": {},
   "outputs": [
    {
     "data": {
      "text/plain": [
       "School Not Found\n",
       "N    364558\n",
       "Name: count, dtype: int64"
      ]
     },
     "execution_count": 40,
     "metadata": {},
     "output_type": "execute_result"
    }
   ],
   "source": [
    "data['School Not Found'].value_counts()"
   ]
  },
  {
   "cell_type": "code",
   "execution_count": 41,
   "id": "fd4c7eef-78a8-4061-a721-70c376a79233",
   "metadata": {},
   "outputs": [
    {
     "data": {
      "text/plain": [
       "Series([], Name: count, dtype: int64)"
      ]
     },
     "execution_count": 41,
     "metadata": {},
     "output_type": "execute_result"
    }
   ],
   "source": [
    "data['School or Citywide Complaint'].value_counts()"
   ]
  },
  {
   "cell_type": "code",
   "execution_count": 42,
   "id": "7abf9767-0f91-4b54-bf8c-5d86b17eea68",
   "metadata": {},
   "outputs": [
    {
     "data": {
      "text/plain": [
       "Index(['Unique Key', 'Created Date', 'Closed Date', 'Agency', 'Agency Name',\n",
       "       'Complaint Type', 'Descriptor', 'Location Type', 'Incident Zip',\n",
       "       'Incident Address', 'Street Name', 'Cross Street 1', 'Cross Street 2',\n",
       "       'Intersection Street 1', 'Intersection Street 2', 'Address Type',\n",
       "       'City', 'Landmark', 'Facility Type', 'Status', 'Due Date',\n",
       "       'Resolution Description', 'Resolution Action Updated Date',\n",
       "       'Community Board', 'Borough', 'X Coordinate (State Plane)',\n",
       "       'Y Coordinate (State Plane)', 'Park Facility Name', 'Park Borough',\n",
       "       'School Name', 'School Number', 'School Region', 'School Code',\n",
       "       'School Phone Number', 'School Address', 'School City', 'School State',\n",
       "       'School Zip', 'School Not Found', 'School or Citywide Complaint',\n",
       "       'Vehicle Type', 'Taxi Company Borough', 'Taxi Pick Up Location',\n",
       "       'Bridge Highway Name', 'Bridge Highway Direction', 'Road Ramp',\n",
       "       'Bridge Highway Segment', 'Garage Lot Name', 'Ferry Direction',\n",
       "       'Ferry Terminal Name', 'Latitude', 'Longitude', 'Location'],\n",
       "      dtype='object')"
      ]
     },
     "execution_count": 42,
     "metadata": {},
     "output_type": "execute_result"
    }
   ],
   "source": [
    "data.columns"
   ]
  },
  {
   "cell_type": "code",
   "execution_count": 43,
   "id": "ebeef55d-0c9b-42e0-8e14-c8e3314797c0",
   "metadata": {},
   "outputs": [],
   "source": [
    "data_mod = data_mod.drop(columns=['School Name', 'School Number', 'School Region', 'School Code',\n",
    "                              'School Phone Number', 'School Address', 'School City', 'School State',\n",
    "                                 'School Zip', 'School Not Found', 'School or Citywide Complaint'],axis=1)"
   ]
  },
  {
   "cell_type": "code",
   "execution_count": 44,
   "id": "e593ef0f-f410-4c65-bb1c-77c4aa208cb1",
   "metadata": {},
   "outputs": [
    {
     "data": {
      "text/plain": [
       "Index(['Created Date', 'Closed Date', 'Agency Name', 'Complaint Type',\n",
       "       'Descriptor', 'Location Type', 'Incident Zip', 'Incident Address',\n",
       "       'Street Name', 'Cross Street 1', 'Cross Street 2',\n",
       "       'Intersection Street 1', 'Intersection Street 2', 'Address Type',\n",
       "       'City', 'Landmark', 'Facility Type', 'Status', 'Due Date',\n",
       "       'Resolution Description', 'Resolution Action Updated Date',\n",
       "       'Community Board', 'Borough', 'X Coordinate (State Plane)',\n",
       "       'Y Coordinate (State Plane)', 'Park Facility Name', 'Park Borough',\n",
       "       'Vehicle Type', 'Taxi Company Borough', 'Taxi Pick Up Location',\n",
       "       'Bridge Highway Name', 'Bridge Highway Direction', 'Road Ramp',\n",
       "       'Bridge Highway Segment', 'Garage Lot Name', 'Ferry Direction',\n",
       "       'Ferry Terminal Name', 'Latitude', 'Longitude', 'Location'],\n",
       "      dtype='object')"
      ]
     },
     "execution_count": 44,
     "metadata": {},
     "output_type": "execute_result"
    }
   ],
   "source": [
    "data_mod.columns"
   ]
  },
  {
   "cell_type": "code",
   "execution_count": 45,
   "id": "4afa68ba-71bc-41f6-ae9d-12387258409c",
   "metadata": {},
   "outputs": [
    {
     "data": {
      "text/plain": [
       "Series([], Name: count, dtype: int64)"
      ]
     },
     "execution_count": 45,
     "metadata": {},
     "output_type": "execute_result"
    }
   ],
   "source": [
    "data['Vehicle Type'].value_counts()"
   ]
  },
  {
   "cell_type": "code",
   "execution_count": 46,
   "id": "f3800e3a-bacf-4f0d-9921-a37a71b7f9d6",
   "metadata": {},
   "outputs": [
    {
     "data": {
      "text/plain": [
       "Series([], Name: count, dtype: int64)"
      ]
     },
     "execution_count": 46,
     "metadata": {},
     "output_type": "execute_result"
    }
   ],
   "source": [
    "data['Taxi Company Borough'].value_counts()"
   ]
  },
  {
   "cell_type": "code",
   "execution_count": 47,
   "id": "cf822831-d26a-4bd2-8475-ca646c4bcdc0",
   "metadata": {},
   "outputs": [
    {
     "data": {
      "text/plain": [
       "Series([], Name: count, dtype: int64)"
      ]
     },
     "execution_count": 47,
     "metadata": {},
     "output_type": "execute_result"
    }
   ],
   "source": [
    "data['Taxi Pick Up Location'].value_counts()"
   ]
  },
  {
   "cell_type": "code",
   "execution_count": 48,
   "id": "50afea4a-7bdf-459f-92b6-885db6989d35",
   "metadata": {},
   "outputs": [],
   "source": [
    "data_mod = data_mod.drop(columns=['Vehicle Type','Taxi Company Borough','Taxi Pick Up Location'],axis=1)"
   ]
  },
  {
   "cell_type": "code",
   "execution_count": 49,
   "id": "b455d734-eae3-4002-9607-3e18c3ecabd0",
   "metadata": {},
   "outputs": [
    {
     "data": {
      "text/plain": [
       "Index(['Created Date', 'Closed Date', 'Agency Name', 'Complaint Type',\n",
       "       'Descriptor', 'Location Type', 'Incident Zip', 'Incident Address',\n",
       "       'Street Name', 'Cross Street 1', 'Cross Street 2',\n",
       "       'Intersection Street 1', 'Intersection Street 2', 'Address Type',\n",
       "       'City', 'Landmark', 'Facility Type', 'Status', 'Due Date',\n",
       "       'Resolution Description', 'Resolution Action Updated Date',\n",
       "       'Community Board', 'Borough', 'X Coordinate (State Plane)',\n",
       "       'Y Coordinate (State Plane)', 'Park Facility Name', 'Park Borough',\n",
       "       'Bridge Highway Name', 'Bridge Highway Direction', 'Road Ramp',\n",
       "       'Bridge Highway Segment', 'Garage Lot Name', 'Ferry Direction',\n",
       "       'Ferry Terminal Name', 'Latitude', 'Longitude', 'Location'],\n",
       "      dtype='object')"
      ]
     },
     "execution_count": 49,
     "metadata": {},
     "output_type": "execute_result"
    }
   ],
   "source": [
    "data_mod.columns"
   ]
  },
  {
   "cell_type": "code",
   "execution_count": 50,
   "id": "ffdb897e-348a-4fe5-9c12-8eaacadb09b7",
   "metadata": {},
   "outputs": [
    {
     "data": {
      "text/plain": [
       "Bridge Highway Name\n",
       "FDR Dr                 36\n",
       "BQE/Gowanus Expwy      35\n",
       "Belt Pkwy              34\n",
       "Cross Bronx Expwy      27\n",
       "Staten Island Expwy    22\n",
       "Name: count, dtype: int64"
      ]
     },
     "execution_count": 50,
     "metadata": {},
     "output_type": "execute_result"
    }
   ],
   "source": [
    "data['Bridge Highway Name'].value_counts().head(5)"
   ]
  },
  {
   "cell_type": "code",
   "execution_count": 51,
   "id": "ea9ee3c8-6564-4cf9-a3b2-6a6d1a04c6b2",
   "metadata": {},
   "outputs": [
    {
     "data": {
      "text/plain": [
       "Bridge Highway Direction\n",
       "East/Queens Bound             26\n",
       "North/Bronx Bound             25\n",
       "North/Westbound (To GW Br)    23\n",
       "West/Staten Island Bound      23\n",
       "Name: count, dtype: int64"
      ]
     },
     "execution_count": 51,
     "metadata": {},
     "output_type": "execute_result"
    }
   ],
   "source": [
    "data['Bridge Highway Direction'].value_counts().head(4)"
   ]
  },
  {
   "cell_type": "code",
   "execution_count": 52,
   "id": "ec834fca-772d-4db6-bd51-650389633eda",
   "metadata": {},
   "outputs": [
    {
     "data": {
      "text/plain": [
       "Road Ramp\n",
       "Roadway    199\n",
       "Ramp        63\n",
       "Name: count, dtype: int64"
      ]
     },
     "execution_count": 52,
     "metadata": {},
     "output_type": "execute_result"
    }
   ],
   "source": [
    "data['Road Ramp'].value_counts()"
   ]
  },
  {
   "cell_type": "code",
   "execution_count": 53,
   "id": "98c6b93f-0192-4ed7-bcdc-31ace6fa13e9",
   "metadata": {},
   "outputs": [
    {
     "data": {
      "text/plain": [
       "Bridge Highway Segment\n",
       "East 96th St (Exit 14) - Triborough Br (Exit 17)                              6\n",
       "Bronx River Pkwy (Exit 4B) - Westchester Ave / White Plains Road (Exit 5A)    5\n",
       "Westchester Ave / White Plains Road (Exit 5A) - Castle Hill Ave (Exit 5B)     4\n",
       "East 177th St/Sheridan Expwy (I-895) (Exit 5)                                 4\n",
       "Brooklyn-Queens Expwy(I-278) (Exit 25) - Brooklyn-Battery Tunnel (I-478)      3\n",
       "East 42nd St (Exit 9) - East 61st St / East 63rd St (Exit 12)                 3\n",
       "Name: count, dtype: int64"
      ]
     },
     "execution_count": 53,
     "metadata": {},
     "output_type": "execute_result"
    }
   ],
   "source": [
    "data['Bridge Highway Segment'].value_counts().head(6)"
   ]
  },
  {
   "cell_type": "code",
   "execution_count": 54,
   "id": "90457fb2-9f98-4e52-9aa2-eb4684624cdc",
   "metadata": {},
   "outputs": [
    {
     "data": {
      "text/plain": [
       "Series([], Name: count, dtype: int64)"
      ]
     },
     "execution_count": 54,
     "metadata": {},
     "output_type": "execute_result"
    }
   ],
   "source": [
    "data['Garage Lot Name'].value_counts()"
   ]
  },
  {
   "cell_type": "code",
   "execution_count": 55,
   "id": "c5601556-d404-4849-960c-850ab5d80c2d",
   "metadata": {},
   "outputs": [
    {
     "data": {
      "text/plain": [
       "Ferry Direction\n",
       "Manhattan Bound    1\n",
       "Name: count, dtype: int64"
      ]
     },
     "execution_count": 55,
     "metadata": {},
     "output_type": "execute_result"
    }
   ],
   "source": [
    "data['Ferry Direction'].value_counts()"
   ]
  },
  {
   "cell_type": "code",
   "execution_count": 56,
   "id": "22a317b4-7f81-431f-9fbc-47f47f482249",
   "metadata": {},
   "outputs": [
    {
     "data": {
      "text/plain": [
       "Ferry Terminal Name\n",
       "St. George Terminal (Staten Island)    1\n",
       "Barberi                                1\n",
       "Name: count, dtype: int64"
      ]
     },
     "execution_count": 56,
     "metadata": {},
     "output_type": "execute_result"
    }
   ],
   "source": [
    "data['Ferry Terminal Name'].value_counts()"
   ]
  },
  {
   "cell_type": "code",
   "execution_count": 57,
   "id": "8b2fad3a-54d0-46d3-9ce5-67cd65a94f4d",
   "metadata": {},
   "outputs": [],
   "source": [
    "data_mod = data_mod.drop(columns=['Garage Lot Name','Ferry Direction','Ferry Terminal Name'],axis=1)"
   ]
  },
  {
   "cell_type": "code",
   "execution_count": 58,
   "id": "d9bd2d97-6e1a-4225-ae71-20e5b289d33d",
   "metadata": {},
   "outputs": [
    {
     "data": {
      "text/plain": [
       "Index(['Created Date', 'Closed Date', 'Agency Name', 'Complaint Type',\n",
       "       'Descriptor', 'Location Type', 'Incident Zip', 'Incident Address',\n",
       "       'Street Name', 'Cross Street 1', 'Cross Street 2',\n",
       "       'Intersection Street 1', 'Intersection Street 2', 'Address Type',\n",
       "       'City', 'Landmark', 'Facility Type', 'Status', 'Due Date',\n",
       "       'Resolution Description', 'Resolution Action Updated Date',\n",
       "       'Community Board', 'Borough', 'X Coordinate (State Plane)',\n",
       "       'Y Coordinate (State Plane)', 'Park Facility Name', 'Park Borough',\n",
       "       'Bridge Highway Name', 'Bridge Highway Direction', 'Road Ramp',\n",
       "       'Bridge Highway Segment', 'Latitude', 'Longitude', 'Location'],\n",
       "      dtype='object')"
      ]
     },
     "execution_count": 58,
     "metadata": {},
     "output_type": "execute_result"
    }
   ],
   "source": [
    "data_mod.columns"
   ]
  },
  {
   "cell_type": "code",
   "execution_count": 59,
   "id": "b5c9b738-6bc3-49b6-a783-89980ab5bf9c",
   "metadata": {},
   "outputs": [
    {
     "data": {
      "text/plain": [
       "(364558, 34)"
      ]
     },
     "execution_count": 59,
     "metadata": {},
     "output_type": "execute_result"
    }
   ],
   "source": [
    "data_mod.shape"
   ]
  },
  {
   "cell_type": "code",
   "execution_count": 60,
   "id": "0f22be21-cbde-4f14-94b4-420e203c67f6",
   "metadata": {},
   "outputs": [
    {
     "data": {
      "text/plain": [
       "Latitude\n",
       "40.830362    1012\n",
       "40.797708     660\n",
       "40.721959     637\n",
       "40.703819     508\n",
       "40.708726     399\n",
       "Name: count, dtype: int64"
      ]
     },
     "execution_count": 60,
     "metadata": {},
     "output_type": "execute_result"
    }
   ],
   "source": [
    "data['Latitude'].value_counts().head(5)"
   ]
  },
  {
   "cell_type": "code",
   "execution_count": 61,
   "id": "5f4b3924-8065-4a38-8a2f-31074c5356f1",
   "metadata": {},
   "outputs": [
    {
     "data": {
      "text/plain": [
       "Longitude\n",
       "-73.866022    1012\n",
       "-73.940182     660\n",
       "-73.809697     637\n",
       "-73.942073     512\n",
       "-73.790654     399\n",
       "Name: count, dtype: int64"
      ]
     },
     "execution_count": 61,
     "metadata": {},
     "output_type": "execute_result"
    }
   ],
   "source": [
    "data['Longitude'].value_counts().head(5)"
   ]
  },
  {
   "cell_type": "code",
   "execution_count": 62,
   "id": "c833de13-6476-419c-b7e8-03af044fd303",
   "metadata": {},
   "outputs": [
    {
     "data": {
      "text/plain": [
       "Location\n",
       "(40.83036235589997, -73.86602154214397)     1012\n",
       "(40.79770758865914, -73.9401822682408)       660\n",
       "(40.72195913199264, -73.80969682426189)      637\n",
       "(40.703818970933284, -73.94207345177706)     508\n",
       "Name: count, dtype: int64"
      ]
     },
     "execution_count": 62,
     "metadata": {},
     "output_type": "execute_result"
    }
   ],
   "source": [
    "data['Location'].value_counts().head(4)"
   ]
  },
  {
   "cell_type": "code",
   "execution_count": 63,
   "id": "9af3cb53-6aad-4b97-b473-76302a104e98",
   "metadata": {},
   "outputs": [
    {
     "data": {
      "text/html": [
       "<div>\n",
       "<style scoped>\n",
       "    .dataframe tbody tr th:only-of-type {\n",
       "        vertical-align: middle;\n",
       "    }\n",
       "\n",
       "    .dataframe tbody tr th {\n",
       "        vertical-align: top;\n",
       "    }\n",
       "\n",
       "    .dataframe thead th {\n",
       "        text-align: right;\n",
       "    }\n",
       "</style>\n",
       "<table border=\"1\" class=\"dataframe\">\n",
       "  <thead>\n",
       "    <tr style=\"text-align: right;\">\n",
       "      <th></th>\n",
       "      <th>Created Date</th>\n",
       "      <th>Closed Date</th>\n",
       "      <th>Agency Name</th>\n",
       "      <th>Complaint Type</th>\n",
       "      <th>Descriptor</th>\n",
       "      <th>Location Type</th>\n",
       "      <th>Incident Zip</th>\n",
       "      <th>Incident Address</th>\n",
       "      <th>Street Name</th>\n",
       "      <th>Cross Street 1</th>\n",
       "      <th>Cross Street 2</th>\n",
       "      <th>Intersection Street 1</th>\n",
       "      <th>Intersection Street 2</th>\n",
       "      <th>Address Type</th>\n",
       "      <th>City</th>\n",
       "      <th>Landmark</th>\n",
       "      <th>Facility Type</th>\n",
       "      <th>Status</th>\n",
       "      <th>Due Date</th>\n",
       "      <th>Resolution Description</th>\n",
       "      <th>Resolution Action Updated Date</th>\n",
       "      <th>Community Board</th>\n",
       "      <th>Borough</th>\n",
       "      <th>X Coordinate (State Plane)</th>\n",
       "      <th>Y Coordinate (State Plane)</th>\n",
       "      <th>Park Facility Name</th>\n",
       "      <th>Park Borough</th>\n",
       "      <th>Bridge Highway Name</th>\n",
       "      <th>Bridge Highway Direction</th>\n",
       "      <th>Road Ramp</th>\n",
       "      <th>Bridge Highway Segment</th>\n",
       "      <th>Latitude</th>\n",
       "      <th>Longitude</th>\n",
       "      <th>Location</th>\n",
       "    </tr>\n",
       "  </thead>\n",
       "  <tbody>\n",
       "    <tr>\n",
       "      <th>147325</th>\n",
       "      <td>08/16/2015 12:13:24 AM</td>\n",
       "      <td>08/16/2015 03:33:08 AM</td>\n",
       "      <td>New York City Police Department</td>\n",
       "      <td>Illegal Parking</td>\n",
       "      <td>Double Parked Blocking Traffic</td>\n",
       "      <td>Street/Sidewalk</td>\n",
       "      <td>11226.0</td>\n",
       "      <td>1 PARKSIDE COURT</td>\n",
       "      <td>PARKSIDE COURT</td>\n",
       "      <td>DEAD END</td>\n",
       "      <td>PARKSIDE AVENUE</td>\n",
       "      <td>NaN</td>\n",
       "      <td>NaN</td>\n",
       "      <td>ADDRESS</td>\n",
       "      <td>BROOKLYN</td>\n",
       "      <td>NaN</td>\n",
       "      <td>Precinct</td>\n",
       "      <td>Closed</td>\n",
       "      <td>08/16/2015 08:13:24 AM</td>\n",
       "      <td>The Police Department responded to the complai...</td>\n",
       "      <td>08/16/2015 03:33:09 AM</td>\n",
       "      <td>09 BROOKLYN</td>\n",
       "      <td>BROOKLYN</td>\n",
       "      <td>995108.0</td>\n",
       "      <td>178290.0</td>\n",
       "      <td>Unspecified</td>\n",
       "      <td>BROOKLYN</td>\n",
       "      <td>NaN</td>\n",
       "      <td>NaN</td>\n",
       "      <td>NaN</td>\n",
       "      <td>NaN</td>\n",
       "      <td>40.656035</td>\n",
       "      <td>-73.960867</td>\n",
       "      <td>(40.65603489976726, -73.96086694960695)</td>\n",
       "    </tr>\n",
       "    <tr>\n",
       "      <th>176283</th>\n",
       "      <td>07/21/2015 08:24:31 AM</td>\n",
       "      <td>07/21/2015 08:51:05 AM</td>\n",
       "      <td>New York City Police Department</td>\n",
       "      <td>Blocked Driveway</td>\n",
       "      <td>Partial Access</td>\n",
       "      <td>Street/Sidewalk</td>\n",
       "      <td>11221.0</td>\n",
       "      <td>867 DEKALB AVENUE</td>\n",
       "      <td>DEKALB AVENUE</td>\n",
       "      <td>THROOP AVENUE</td>\n",
       "      <td>MARCUS GARVEY BOULEVARD</td>\n",
       "      <td>NaN</td>\n",
       "      <td>NaN</td>\n",
       "      <td>ADDRESS</td>\n",
       "      <td>BROOKLYN</td>\n",
       "      <td>NaN</td>\n",
       "      <td>Precinct</td>\n",
       "      <td>Closed</td>\n",
       "      <td>07/21/2015 04:24:31 PM</td>\n",
       "      <td>The Police Department responded and upon arriv...</td>\n",
       "      <td>07/21/2015 08:51:05 AM</td>\n",
       "      <td>03 BROOKLYN</td>\n",
       "      <td>BROOKLYN</td>\n",
       "      <td>1000436.0</td>\n",
       "      <td>191578.0</td>\n",
       "      <td>Unspecified</td>\n",
       "      <td>BROOKLYN</td>\n",
       "      <td>NaN</td>\n",
       "      <td>NaN</td>\n",
       "      <td>NaN</td>\n",
       "      <td>NaN</td>\n",
       "      <td>40.692499</td>\n",
       "      <td>-73.941633</td>\n",
       "      <td>(40.69249932669242, -73.94163253024635)</td>\n",
       "    </tr>\n",
       "    <tr>\n",
       "      <th>223294</th>\n",
       "      <td>06/10/2015 08:49:51 PM</td>\n",
       "      <td>06/11/2015 01:49:22 AM</td>\n",
       "      <td>New York City Police Department</td>\n",
       "      <td>Illegal Parking</td>\n",
       "      <td>Blocked Sidewalk</td>\n",
       "      <td>Street/Sidewalk</td>\n",
       "      <td>11421.0</td>\n",
       "      <td>74-14 85 DRIVE</td>\n",
       "      <td>85 DRIVE</td>\n",
       "      <td>DEXTER COURT</td>\n",
       "      <td>75 STREET</td>\n",
       "      <td>NaN</td>\n",
       "      <td>NaN</td>\n",
       "      <td>ADDRESS</td>\n",
       "      <td>WOODHAVEN</td>\n",
       "      <td>NaN</td>\n",
       "      <td>Precinct</td>\n",
       "      <td>Closed</td>\n",
       "      <td>06/11/2015 04:49:51 AM</td>\n",
       "      <td>The Police Department responded and upon arriv...</td>\n",
       "      <td>06/11/2015 01:49:22 AM</td>\n",
       "      <td>09 QUEENS</td>\n",
       "      <td>QUEENS</td>\n",
       "      <td>1020853.0</td>\n",
       "      <td>191903.0</td>\n",
       "      <td>Unspecified</td>\n",
       "      <td>QUEENS</td>\n",
       "      <td>NaN</td>\n",
       "      <td>NaN</td>\n",
       "      <td>NaN</td>\n",
       "      <td>NaN</td>\n",
       "      <td>40.693330</td>\n",
       "      <td>-73.868006</td>\n",
       "      <td>(40.69333048471479, -73.86800619187764)</td>\n",
       "    </tr>\n",
       "    <tr>\n",
       "      <th>89463</th>\n",
       "      <td>10/05/2015 05:18:51 PM</td>\n",
       "      <td>10/05/2015 11:33:41 PM</td>\n",
       "      <td>New York City Police Department</td>\n",
       "      <td>Blocked Driveway</td>\n",
       "      <td>No Access</td>\n",
       "      <td>Street/Sidewalk</td>\n",
       "      <td>11206.0</td>\n",
       "      <td>225 SEIGEL STREET</td>\n",
       "      <td>SEIGEL STREET</td>\n",
       "      <td>MC KIBBIN COURT</td>\n",
       "      <td>SEIGEL COURT</td>\n",
       "      <td>NaN</td>\n",
       "      <td>NaN</td>\n",
       "      <td>ADDRESS</td>\n",
       "      <td>BROOKLYN</td>\n",
       "      <td>NaN</td>\n",
       "      <td>Precinct</td>\n",
       "      <td>Closed</td>\n",
       "      <td>10/06/2015 01:18:51 AM</td>\n",
       "      <td>The Police Department responded to the complai...</td>\n",
       "      <td>10/05/2015 11:33:42 PM</td>\n",
       "      <td>01 BROOKLYN</td>\n",
       "      <td>BROOKLYN</td>\n",
       "      <td>1001715.0</td>\n",
       "      <td>196130.0</td>\n",
       "      <td>Unspecified</td>\n",
       "      <td>BROOKLYN</td>\n",
       "      <td>NaN</td>\n",
       "      <td>NaN</td>\n",
       "      <td>NaN</td>\n",
       "      <td>NaN</td>\n",
       "      <td>40.704991</td>\n",
       "      <td>-73.937009</td>\n",
       "      <td>(40.70499107021411, -73.93700859434657)</td>\n",
       "    </tr>\n",
       "    <tr>\n",
       "      <th>132288</th>\n",
       "      <td>08/29/2015 04:41:34 PM</td>\n",
       "      <td>08/29/2015 06:31:39 PM</td>\n",
       "      <td>New York City Police Department</td>\n",
       "      <td>Illegal Parking</td>\n",
       "      <td>Blocked Hydrant</td>\n",
       "      <td>Street/Sidewalk</td>\n",
       "      <td>10011.0</td>\n",
       "      <td>NaN</td>\n",
       "      <td>NaN</td>\n",
       "      <td>NaN</td>\n",
       "      <td>NaN</td>\n",
       "      <td>WEST   23 STREET</td>\n",
       "      <td>10 AVENUE</td>\n",
       "      <td>INTERSECTION</td>\n",
       "      <td>NEW YORK</td>\n",
       "      <td>NaN</td>\n",
       "      <td>Precinct</td>\n",
       "      <td>Closed</td>\n",
       "      <td>08/30/2015 12:41:34 AM</td>\n",
       "      <td>The Police Department responded to the complai...</td>\n",
       "      <td>08/29/2015 06:31:39 PM</td>\n",
       "      <td>04 MANHATTAN</td>\n",
       "      <td>MANHATTAN</td>\n",
       "      <td>983095.0</td>\n",
       "      <td>211680.0</td>\n",
       "      <td>Unspecified</td>\n",
       "      <td>MANHATTAN</td>\n",
       "      <td>NaN</td>\n",
       "      <td>NaN</td>\n",
       "      <td>NaN</td>\n",
       "      <td>NaN</td>\n",
       "      <td>40.747689</td>\n",
       "      <td>-74.004168</td>\n",
       "      <td>(40.74768919735952, -74.0041684338762)</td>\n",
       "    </tr>\n",
       "    <tr>\n",
       "      <th>2306</th>\n",
       "      <td>12/29/2015 10:52:11 AM</td>\n",
       "      <td>12/29/2015 12:57:06 PM</td>\n",
       "      <td>New York City Police Department</td>\n",
       "      <td>Blocked Driveway</td>\n",
       "      <td>No Access</td>\n",
       "      <td>Street/Sidewalk</td>\n",
       "      <td>11228.0</td>\n",
       "      <td>1171 74 STREET</td>\n",
       "      <td>74 STREET</td>\n",
       "      <td>11 AVENUE</td>\n",
       "      <td>12 AVENUE</td>\n",
       "      <td>NaN</td>\n",
       "      <td>NaN</td>\n",
       "      <td>ADDRESS</td>\n",
       "      <td>BROOKLYN</td>\n",
       "      <td>NaN</td>\n",
       "      <td>Precinct</td>\n",
       "      <td>Closed</td>\n",
       "      <td>12/29/2015 06:52:11 PM</td>\n",
       "      <td>Your request can not be processed at this time...</td>\n",
       "      <td>12/29/2015 12:57:06 PM</td>\n",
       "      <td>10 BROOKLYN</td>\n",
       "      <td>BROOKLYN</td>\n",
       "      <td>981578.0</td>\n",
       "      <td>166115.0</td>\n",
       "      <td>Unspecified</td>\n",
       "      <td>BROOKLYN</td>\n",
       "      <td>NaN</td>\n",
       "      <td>NaN</td>\n",
       "      <td>NaN</td>\n",
       "      <td>NaN</td>\n",
       "      <td>40.622623</td>\n",
       "      <td>-74.009625</td>\n",
       "      <td>(40.62262338286452, -74.00962526846163)</td>\n",
       "    </tr>\n",
       "    <tr>\n",
       "      <th>135632</th>\n",
       "      <td>08/26/2015 09:57:23 PM</td>\n",
       "      <td>08/27/2015 08:29:03 AM</td>\n",
       "      <td>New York City Police Department</td>\n",
       "      <td>Noise - Street/Sidewalk</td>\n",
       "      <td>Loud Music/Party</td>\n",
       "      <td>Street/Sidewalk</td>\n",
       "      <td>10456.0</td>\n",
       "      <td>1240 SHERMAN AVENUE</td>\n",
       "      <td>SHERMAN AVENUE</td>\n",
       "      <td>EAST 167 STREET</td>\n",
       "      <td>EAST 168 STREET</td>\n",
       "      <td>NaN</td>\n",
       "      <td>NaN</td>\n",
       "      <td>ADDRESS</td>\n",
       "      <td>BRONX</td>\n",
       "      <td>NaN</td>\n",
       "      <td>Precinct</td>\n",
       "      <td>Closed</td>\n",
       "      <td>08/27/2015 05:57:23 AM</td>\n",
       "      <td>The Police Department responded and upon arriv...</td>\n",
       "      <td>08/27/2015 08:29:03 AM</td>\n",
       "      <td>04 BRONX</td>\n",
       "      <td>BRONX</td>\n",
       "      <td>1007668.0</td>\n",
       "      <td>243373.0</td>\n",
       "      <td>Unspecified</td>\n",
       "      <td>BRONX</td>\n",
       "      <td>NaN</td>\n",
       "      <td>NaN</td>\n",
       "      <td>NaN</td>\n",
       "      <td>NaN</td>\n",
       "      <td>40.834647</td>\n",
       "      <td>-73.915373</td>\n",
       "      <td>(40.8346469681713, -73.9153731735381)</td>\n",
       "    </tr>\n",
       "    <tr>\n",
       "      <th>47924</th>\n",
       "      <td>11/13/2015 02:40:36 PM</td>\n",
       "      <td>11/13/2015 03:19:43 PM</td>\n",
       "      <td>New York City Police Department</td>\n",
       "      <td>Traffic</td>\n",
       "      <td>Congestion/Gridlock</td>\n",
       "      <td>Street/Sidewalk</td>\n",
       "      <td>11101.0</td>\n",
       "      <td>NaN</td>\n",
       "      <td>NaN</td>\n",
       "      <td>NaN</td>\n",
       "      <td>NaN</td>\n",
       "      <td>VANDAM STREET</td>\n",
       "      <td>LIE</td>\n",
       "      <td>INTERSECTION</td>\n",
       "      <td>LONG ISLAND CITY</td>\n",
       "      <td>NaN</td>\n",
       "      <td>Precinct</td>\n",
       "      <td>Closed</td>\n",
       "      <td>11/13/2015 10:40:36 PM</td>\n",
       "      <td>The Police Department responded to the complai...</td>\n",
       "      <td>11/13/2015 03:19:43 PM</td>\n",
       "      <td>02 QUEENS</td>\n",
       "      <td>QUEENS</td>\n",
       "      <td>1002260.0</td>\n",
       "      <td>208026.0</td>\n",
       "      <td>Unspecified</td>\n",
       "      <td>QUEENS</td>\n",
       "      <td>NaN</td>\n",
       "      <td>NaN</td>\n",
       "      <td>NaN</td>\n",
       "      <td>NaN</td>\n",
       "      <td>40.737642</td>\n",
       "      <td>-73.935011</td>\n",
       "      <td>(40.73764161700473, -73.93501109949354)</td>\n",
       "    </tr>\n",
       "    <tr>\n",
       "      <th>57435</th>\n",
       "      <td>11/04/2015 05:00:30 PM</td>\n",
       "      <td>11/04/2015 05:33:10 PM</td>\n",
       "      <td>New York City Police Department</td>\n",
       "      <td>Homeless Encampment</td>\n",
       "      <td>NaN</td>\n",
       "      <td>Street/Sidewalk</td>\n",
       "      <td>10301.0</td>\n",
       "      <td>NaN</td>\n",
       "      <td>NaN</td>\n",
       "      <td>FERRY TERMINAL DRIVE</td>\n",
       "      <td>FERRY TERMINAL DRIVE</td>\n",
       "      <td>NaN</td>\n",
       "      <td>NaN</td>\n",
       "      <td>PLACENAME</td>\n",
       "      <td>STATEN ISLAND</td>\n",
       "      <td>FERRY TERMINAL</td>\n",
       "      <td>Precinct</td>\n",
       "      <td>Closed</td>\n",
       "      <td>11/05/2015 01:00:30 AM</td>\n",
       "      <td>This complaint does not fall under the Police ...</td>\n",
       "      <td>11/04/2015 05:33:10 PM</td>\n",
       "      <td>01 STATEN ISLAND</td>\n",
       "      <td>STATEN ISLAND</td>\n",
       "      <td>964133.0</td>\n",
       "      <td>173928.0</td>\n",
       "      <td>Unspecified</td>\n",
       "      <td>STATEN ISLAND</td>\n",
       "      <td>NaN</td>\n",
       "      <td>NaN</td>\n",
       "      <td>NaN</td>\n",
       "      <td>NaN</td>\n",
       "      <td>40.644046</td>\n",
       "      <td>-74.072490</td>\n",
       "      <td>(40.64404596686296, -74.07249016280919)</td>\n",
       "    </tr>\n",
       "    <tr>\n",
       "      <th>63539</th>\n",
       "      <td>10/30/2015 12:12:45 AM</td>\n",
       "      <td>10/30/2015 08:44:48 AM</td>\n",
       "      <td>New York City Police Department</td>\n",
       "      <td>Noise - Commercial</td>\n",
       "      <td>Loud Music/Party</td>\n",
       "      <td>Club/Bar/Restaurant</td>\n",
       "      <td>10456.0</td>\n",
       "      <td>185 EAST 167 STREET</td>\n",
       "      <td>EAST 167 STREET</td>\n",
       "      <td>GRAND CONCOURSE</td>\n",
       "      <td>SHERIDAN AVENUE</td>\n",
       "      <td>NaN</td>\n",
       "      <td>NaN</td>\n",
       "      <td>ADDRESS</td>\n",
       "      <td>BRONX</td>\n",
       "      <td>NaN</td>\n",
       "      <td>Precinct</td>\n",
       "      <td>Closed</td>\n",
       "      <td>10/30/2015 08:12:45 AM</td>\n",
       "      <td>The Police Department responded to the complai...</td>\n",
       "      <td>10/30/2015 08:44:48 AM</td>\n",
       "      <td>04 BRONX</td>\n",
       "      <td>BRONX</td>\n",
       "      <td>1007157.0</td>\n",
       "      <td>243264.0</td>\n",
       "      <td>Unspecified</td>\n",
       "      <td>BRONX</td>\n",
       "      <td>NaN</td>\n",
       "      <td>NaN</td>\n",
       "      <td>NaN</td>\n",
       "      <td>NaN</td>\n",
       "      <td>40.834349</td>\n",
       "      <td>-73.917220</td>\n",
       "      <td>(40.834349134963475, -73.91722017154473)</td>\n",
       "    </tr>\n",
       "  </tbody>\n",
       "</table>\n",
       "</div>"
      ],
      "text/plain": [
       "                  Created Date             Closed Date  \\\n",
       "147325  08/16/2015 12:13:24 AM  08/16/2015 03:33:08 AM   \n",
       "176283  07/21/2015 08:24:31 AM  07/21/2015 08:51:05 AM   \n",
       "223294  06/10/2015 08:49:51 PM  06/11/2015 01:49:22 AM   \n",
       "89463   10/05/2015 05:18:51 PM  10/05/2015 11:33:41 PM   \n",
       "132288  08/29/2015 04:41:34 PM  08/29/2015 06:31:39 PM   \n",
       "2306    12/29/2015 10:52:11 AM  12/29/2015 12:57:06 PM   \n",
       "135632  08/26/2015 09:57:23 PM  08/27/2015 08:29:03 AM   \n",
       "47924   11/13/2015 02:40:36 PM  11/13/2015 03:19:43 PM   \n",
       "57435   11/04/2015 05:00:30 PM  11/04/2015 05:33:10 PM   \n",
       "63539   10/30/2015 12:12:45 AM  10/30/2015 08:44:48 AM   \n",
       "\n",
       "                            Agency Name           Complaint Type  \\\n",
       "147325  New York City Police Department          Illegal Parking   \n",
       "176283  New York City Police Department         Blocked Driveway   \n",
       "223294  New York City Police Department          Illegal Parking   \n",
       "89463   New York City Police Department         Blocked Driveway   \n",
       "132288  New York City Police Department          Illegal Parking   \n",
       "2306    New York City Police Department         Blocked Driveway   \n",
       "135632  New York City Police Department  Noise - Street/Sidewalk   \n",
       "47924   New York City Police Department                  Traffic   \n",
       "57435   New York City Police Department      Homeless Encampment   \n",
       "63539   New York City Police Department       Noise - Commercial   \n",
       "\n",
       "                            Descriptor        Location Type  Incident Zip  \\\n",
       "147325  Double Parked Blocking Traffic      Street/Sidewalk       11226.0   \n",
       "176283                  Partial Access      Street/Sidewalk       11221.0   \n",
       "223294                Blocked Sidewalk      Street/Sidewalk       11421.0   \n",
       "89463                        No Access      Street/Sidewalk       11206.0   \n",
       "132288                 Blocked Hydrant      Street/Sidewalk       10011.0   \n",
       "2306                         No Access      Street/Sidewalk       11228.0   \n",
       "135632                Loud Music/Party      Street/Sidewalk       10456.0   \n",
       "47924              Congestion/Gridlock      Street/Sidewalk       11101.0   \n",
       "57435                              NaN      Street/Sidewalk       10301.0   \n",
       "63539                 Loud Music/Party  Club/Bar/Restaurant       10456.0   \n",
       "\n",
       "           Incident Address      Street Name        Cross Street 1  \\\n",
       "147325     1 PARKSIDE COURT   PARKSIDE COURT              DEAD END   \n",
       "176283    867 DEKALB AVENUE    DEKALB AVENUE         THROOP AVENUE   \n",
       "223294       74-14 85 DRIVE         85 DRIVE          DEXTER COURT   \n",
       "89463     225 SEIGEL STREET    SEIGEL STREET       MC KIBBIN COURT   \n",
       "132288                  NaN              NaN                   NaN   \n",
       "2306         1171 74 STREET        74 STREET             11 AVENUE   \n",
       "135632  1240 SHERMAN AVENUE   SHERMAN AVENUE       EAST 167 STREET   \n",
       "47924                   NaN              NaN                   NaN   \n",
       "57435                   NaN              NaN  FERRY TERMINAL DRIVE   \n",
       "63539   185 EAST 167 STREET  EAST 167 STREET       GRAND CONCOURSE   \n",
       "\n",
       "                 Cross Street 2 Intersection Street 1 Intersection Street 2  \\\n",
       "147325          PARKSIDE AVENUE                   NaN                   NaN   \n",
       "176283  MARCUS GARVEY BOULEVARD                   NaN                   NaN   \n",
       "223294                75 STREET                   NaN                   NaN   \n",
       "89463              SEIGEL COURT                   NaN                   NaN   \n",
       "132288                      NaN      WEST   23 STREET             10 AVENUE   \n",
       "2306                  12 AVENUE                   NaN                   NaN   \n",
       "135632          EAST 168 STREET                   NaN                   NaN   \n",
       "47924                       NaN         VANDAM STREET                   LIE   \n",
       "57435      FERRY TERMINAL DRIVE                   NaN                   NaN   \n",
       "63539           SHERIDAN AVENUE                   NaN                   NaN   \n",
       "\n",
       "        Address Type              City        Landmark Facility Type  Status  \\\n",
       "147325       ADDRESS          BROOKLYN             NaN      Precinct  Closed   \n",
       "176283       ADDRESS          BROOKLYN             NaN      Precinct  Closed   \n",
       "223294       ADDRESS         WOODHAVEN             NaN      Precinct  Closed   \n",
       "89463        ADDRESS          BROOKLYN             NaN      Precinct  Closed   \n",
       "132288  INTERSECTION          NEW YORK             NaN      Precinct  Closed   \n",
       "2306         ADDRESS          BROOKLYN             NaN      Precinct  Closed   \n",
       "135632       ADDRESS             BRONX             NaN      Precinct  Closed   \n",
       "47924   INTERSECTION  LONG ISLAND CITY             NaN      Precinct  Closed   \n",
       "57435      PLACENAME     STATEN ISLAND  FERRY TERMINAL      Precinct  Closed   \n",
       "63539        ADDRESS             BRONX             NaN      Precinct  Closed   \n",
       "\n",
       "                      Due Date  \\\n",
       "147325  08/16/2015 08:13:24 AM   \n",
       "176283  07/21/2015 04:24:31 PM   \n",
       "223294  06/11/2015 04:49:51 AM   \n",
       "89463   10/06/2015 01:18:51 AM   \n",
       "132288  08/30/2015 12:41:34 AM   \n",
       "2306    12/29/2015 06:52:11 PM   \n",
       "135632  08/27/2015 05:57:23 AM   \n",
       "47924   11/13/2015 10:40:36 PM   \n",
       "57435   11/05/2015 01:00:30 AM   \n",
       "63539   10/30/2015 08:12:45 AM   \n",
       "\n",
       "                                   Resolution Description  \\\n",
       "147325  The Police Department responded to the complai...   \n",
       "176283  The Police Department responded and upon arriv...   \n",
       "223294  The Police Department responded and upon arriv...   \n",
       "89463   The Police Department responded to the complai...   \n",
       "132288  The Police Department responded to the complai...   \n",
       "2306    Your request can not be processed at this time...   \n",
       "135632  The Police Department responded and upon arriv...   \n",
       "47924   The Police Department responded to the complai...   \n",
       "57435   This complaint does not fall under the Police ...   \n",
       "63539   The Police Department responded to the complai...   \n",
       "\n",
       "       Resolution Action Updated Date   Community Board        Borough  \\\n",
       "147325         08/16/2015 03:33:09 AM       09 BROOKLYN       BROOKLYN   \n",
       "176283         07/21/2015 08:51:05 AM       03 BROOKLYN       BROOKLYN   \n",
       "223294         06/11/2015 01:49:22 AM         09 QUEENS         QUEENS   \n",
       "89463          10/05/2015 11:33:42 PM       01 BROOKLYN       BROOKLYN   \n",
       "132288         08/29/2015 06:31:39 PM      04 MANHATTAN      MANHATTAN   \n",
       "2306           12/29/2015 12:57:06 PM       10 BROOKLYN       BROOKLYN   \n",
       "135632         08/27/2015 08:29:03 AM          04 BRONX          BRONX   \n",
       "47924          11/13/2015 03:19:43 PM         02 QUEENS         QUEENS   \n",
       "57435          11/04/2015 05:33:10 PM  01 STATEN ISLAND  STATEN ISLAND   \n",
       "63539          10/30/2015 08:44:48 AM          04 BRONX          BRONX   \n",
       "\n",
       "        X Coordinate (State Plane)  Y Coordinate (State Plane)  \\\n",
       "147325                    995108.0                    178290.0   \n",
       "176283                   1000436.0                    191578.0   \n",
       "223294                   1020853.0                    191903.0   \n",
       "89463                    1001715.0                    196130.0   \n",
       "132288                    983095.0                    211680.0   \n",
       "2306                      981578.0                    166115.0   \n",
       "135632                   1007668.0                    243373.0   \n",
       "47924                    1002260.0                    208026.0   \n",
       "57435                     964133.0                    173928.0   \n",
       "63539                    1007157.0                    243264.0   \n",
       "\n",
       "       Park Facility Name   Park Borough Bridge Highway Name  \\\n",
       "147325        Unspecified       BROOKLYN                 NaN   \n",
       "176283        Unspecified       BROOKLYN                 NaN   \n",
       "223294        Unspecified         QUEENS                 NaN   \n",
       "89463         Unspecified       BROOKLYN                 NaN   \n",
       "132288        Unspecified      MANHATTAN                 NaN   \n",
       "2306          Unspecified       BROOKLYN                 NaN   \n",
       "135632        Unspecified          BRONX                 NaN   \n",
       "47924         Unspecified         QUEENS                 NaN   \n",
       "57435         Unspecified  STATEN ISLAND                 NaN   \n",
       "63539         Unspecified          BRONX                 NaN   \n",
       "\n",
       "       Bridge Highway Direction Road Ramp Bridge Highway Segment   Latitude  \\\n",
       "147325                      NaN       NaN                    NaN  40.656035   \n",
       "176283                      NaN       NaN                    NaN  40.692499   \n",
       "223294                      NaN       NaN                    NaN  40.693330   \n",
       "89463                       NaN       NaN                    NaN  40.704991   \n",
       "132288                      NaN       NaN                    NaN  40.747689   \n",
       "2306                        NaN       NaN                    NaN  40.622623   \n",
       "135632                      NaN       NaN                    NaN  40.834647   \n",
       "47924                       NaN       NaN                    NaN  40.737642   \n",
       "57435                       NaN       NaN                    NaN  40.644046   \n",
       "63539                       NaN       NaN                    NaN  40.834349   \n",
       "\n",
       "        Longitude                                  Location  \n",
       "147325 -73.960867   (40.65603489976726, -73.96086694960695)  \n",
       "176283 -73.941633   (40.69249932669242, -73.94163253024635)  \n",
       "223294 -73.868006   (40.69333048471479, -73.86800619187764)  \n",
       "89463  -73.937009   (40.70499107021411, -73.93700859434657)  \n",
       "132288 -74.004168    (40.74768919735952, -74.0041684338762)  \n",
       "2306   -74.009625   (40.62262338286452, -74.00962526846163)  \n",
       "135632 -73.915373     (40.8346469681713, -73.9153731735381)  \n",
       "47924  -73.935011   (40.73764161700473, -73.93501109949354)  \n",
       "57435  -74.072490   (40.64404596686296, -74.07249016280919)  \n",
       "63539  -73.917220  (40.834349134963475, -73.91722017154473)  "
      ]
     },
     "execution_count": 63,
     "metadata": {},
     "output_type": "execute_result"
    }
   ],
   "source": [
    "data_mod.sample(10)"
   ]
  },
  {
   "cell_type": "code",
   "execution_count": 64,
   "id": "eea8e2b0-24b8-45e8-8622-1f72095ae679",
   "metadata": {},
   "outputs": [
    {
     "data": {
      "text/plain": [
       "Index(['Created Date', 'Closed Date', 'Agency Name', 'Complaint Type',\n",
       "       'Descriptor', 'Location Type', 'Incident Zip', 'Incident Address',\n",
       "       'Street Name', 'Cross Street 1', 'Cross Street 2',\n",
       "       'Intersection Street 1', 'Intersection Street 2', 'Address Type',\n",
       "       'City', 'Landmark', 'Facility Type', 'Status', 'Due Date',\n",
       "       'Resolution Description', 'Resolution Action Updated Date',\n",
       "       'Community Board', 'Borough', 'X Coordinate (State Plane)',\n",
       "       'Y Coordinate (State Plane)', 'Park Facility Name', 'Park Borough',\n",
       "       'Bridge Highway Name', 'Bridge Highway Direction', 'Road Ramp',\n",
       "       'Bridge Highway Segment', 'Latitude', 'Longitude', 'Location'],\n",
       "      dtype='object')"
      ]
     },
     "execution_count": 64,
     "metadata": {},
     "output_type": "execute_result"
    }
   ],
   "source": [
    "data_mod.columns"
   ]
  },
  {
   "cell_type": "code",
   "execution_count": 65,
   "id": "66c0782b-d7ff-4a9d-931a-f5b69d934be0",
   "metadata": {},
   "outputs": [
    {
     "name": "stdout",
     "output_type": "stream",
     "text": [
      "<class 'pandas.core.frame.DataFrame'>\n",
      "RangeIndex: 364558 entries, 0 to 364557\n",
      "Data columns (total 34 columns):\n",
      " #   Column                          Non-Null Count   Dtype  \n",
      "---  ------                          --------------   -----  \n",
      " 0   Created Date                    364558 non-null  object \n",
      " 1   Closed Date                     362177 non-null  object \n",
      " 2   Agency Name                     364558 non-null  object \n",
      " 3   Complaint Type                  364558 non-null  object \n",
      " 4   Descriptor                      358057 non-null  object \n",
      " 5   Location Type                   364425 non-null  object \n",
      " 6   Incident Zip                    361560 non-null  float64\n",
      " 7   Incident Address                312859 non-null  object \n",
      " 8   Street Name                     312859 non-null  object \n",
      " 9   Cross Street 1                  307370 non-null  object \n",
      " 10  Cross Street 2                  306753 non-null  object \n",
      " 11  Intersection Street 1           51120 non-null   object \n",
      " 12  Intersection Street 2           50512 non-null   object \n",
      " 13  Address Type                    361306 non-null  object \n",
      " 14  City                            361561 non-null  object \n",
      " 15  Landmark                        375 non-null     object \n",
      " 16  Facility Type                   362169 non-null  object \n",
      " 17  Status                          364558 non-null  object \n",
      " 18  Due Date                        364555 non-null  object \n",
      " 19  Resolution Description          364558 non-null  object \n",
      " 20  Resolution Action Updated Date  362156 non-null  object \n",
      " 21  Community Board                 364558 non-null  object \n",
      " 22  Borough                         364558 non-null  object \n",
      " 23  X Coordinate (State Plane)      360528 non-null  float64\n",
      " 24  Y Coordinate (State Plane)      360528 non-null  float64\n",
      " 25  Park Facility Name              364558 non-null  object \n",
      " 26  Park Borough                    364558 non-null  object \n",
      " 27  Bridge Highway Name             297 non-null     object \n",
      " 28  Bridge Highway Direction        297 non-null     object \n",
      " 29  Road Ramp                       262 non-null     object \n",
      " 30  Bridge Highway Segment          262 non-null     object \n",
      " 31  Latitude                        360528 non-null  float64\n",
      " 32  Longitude                       360528 non-null  float64\n",
      " 33  Location                        360528 non-null  object \n",
      "dtypes: float64(5), object(29)\n",
      "memory usage: 94.6+ MB\n"
     ]
    }
   ],
   "source": [
    "# Final info.(features) after cleaning  ------------------\n",
    "\n",
    "data_mod.info()"
   ]
  },
  {
   "cell_type": "markdown",
   "id": "083f9efd-c8b5-446c-811e-b8390f825040",
   "metadata": {},
   "source": [
    "# 2. Perform basic data exploratory analysis:"
   ]
  },
  {
   "cell_type": "code",
   "execution_count": null,
   "id": "9d068229-2708-4061-9c9f-f8b141a301ae",
   "metadata": {},
   "outputs": [
    {
     "name": "stderr",
     "output_type": "stream",
     "text": [
      "C:\\Users\\mayan\\AppData\\Local\\Temp\\ipykernel_2560\\3678064183.py:1: UserWarning: Could not infer format, so each element will be parsed individually, falling back to `dateutil`. To ensure parsing is consistent and as-expected, please specify a format.\n",
      "  data_mod['Closed Date'] = pd.to_datetime(data_mod['Closed Date'])\n",
      "C:\\Users\\mayan\\AppData\\Local\\Temp\\ipykernel_2560\\3678064183.py:2: UserWarning: Could not infer format, so each element will be parsed individually, falling back to `dateutil`. To ensure parsing is consistent and as-expected, please specify a format.\n",
      "  data_mod['Created Date'] = pd.to_datetime(data_mod['Created Date'])\n"
     ]
    }
   ],
   "source": [
    "data_mod['Closed Date'] = pd.to_datetime(data_mod['Closed Date'])\n",
    "data_mod['Created Date'] = pd.to_datetime(data_mod['Created Date'])\n",
    "\n",
    "data_mod['Request_Closing_Time'] = data_mod['Closed Date'] - data_mod['Created Date']\n",
    "\n",
    "#data_mod = data_mod[(data_mod.Request_Closing_Time)>=0]"
   ]
  },
  {
   "cell_type": "code",
   "execution_count": null,
   "id": "692f3434-e4f1-454b-a07c-d0d6a19f3f91",
   "metadata": {},
   "outputs": [],
   "source": [
    "data_mod.info()"
   ]
  },
  {
   "cell_type": "code",
   "execution_count": null,
   "id": "865487e6-8d64-4c84-8bfc-3dae0af9aafb",
   "metadata": {},
   "outputs": [],
   "source": [
    "data_mod.sample(4)"
   ]
  },
  {
   "cell_type": "code",
   "execution_count": null,
   "id": "1c12378d-19b7-4818-bb84-30b8779d2c0a",
   "metadata": {},
   "outputs": [],
   "source": [
    "data_mod.columns"
   ]
  },
  {
   "cell_type": "markdown",
   "id": "106653a6-c6e1-4c07-bb52-b1980cda6a14",
   "metadata": {},
   "source": [
    "# 3. Find major types of complaints:"
   ]
  },
  {
   "cell_type": "code",
   "execution_count": null,
   "id": "ed5c0b3e-5482-49ae-8caa-6eb2e677d6e6",
   "metadata": {},
   "outputs": [],
   "source": [
    "# Measuring the frequency (occurence) of the different complaint---------------------------\n",
    "\n",
    "data_complaint = data['Complaint Type'].value_counts()\n",
    "data_complaint = data_complaint.to_frame()\n",
    "data_complaint = data_complaint.rename(columns={'Complaint Type':'Counts'})\n",
    "data_complaint"
   ]
  },
  {
   "cell_type": "code",
   "execution_count": null,
   "id": "d245ffad-d5de-461a-955c-e1044cab2cf7",
   "metadata": {},
   "outputs": [],
   "source": [
    "# Evaluate the above in percentage ----------------------------\n",
    "\n",
    "data_complaint['Percentage'] = np.around((data_complaint.Counts/data_complaint.Counts.sum())*100,decimals=2)\n",
    "data_complaint"
   ]
  },
  {
   "cell_type": "code",
   "execution_count": null,
   "id": "3a667da5-c06a-4ffa-ba99-f94db0a86f58",
   "metadata": {},
   "outputs": [],
   "source": [
    "# Keeping the major complaint types ---------------\n",
    "\n",
    "data_complaint = data_complaint[data_complaint.Percentage>1.0]\n",
    "data_complaint = data_complaint.reset_index()\n",
    "data_complaint = data_complaint.rename(columns={'index':'Complaint Type'})\n",
    "data_complaint"
   ]
  },
  {
   "cell_type": "code",
   "execution_count": null,
   "id": "a8a89855-fa9b-4d75-836b-f89baef2283a",
   "metadata": {},
   "outputs": [],
   "source": [
    "# Visualization of the above evaluated dataset ---------------------\n",
    "\n",
    "plt.figure(figsize=(12,6))\n",
    "com_type = sns.barplot(x=data_complaint['Complaint Type'],y=data_complaint.Percentage,data=data_complaint)\n",
    "com_type.set_xticklabels(com_type.get_xticklabels(), rotation=30, ha=\"right\")\n",
    "plt.title('Proportion of different complaint type (major)')\n",
    "plt.show()\n",
    "plt.tight_layout()"
   ]
  },
  {
   "cell_type": "code",
   "execution_count": null,
   "id": "3672bc4d-71dc-4b66-b53f-8580cf3325d7",
   "metadata": {},
   "outputs": [],
   "source": [
    "# Applying the above procedure for Descriptor-------------------\n",
    "\n",
    "data_descriptor = np.around(((data_mod['Descriptor'].value_counts()*100) / data_mod['Descriptor'].value_counts().sum()),\n",
    "                            decimals=2)\n",
    "data_descriptor = data_descriptor.to_frame()\n",
    "data_descriptor = data_descriptor.rename(columns={'Descriptor':'Percentage'})\n",
    "data_descriptor['Descriptor'] = data_descriptor.index\n",
    "cols = data_descriptor.columns.tolist()\n",
    "cols = cols[-1:]+cols[:-1]\n",
    "data_descriptor = data_descriptor[cols]\n",
    "data_descriptor = data_descriptor[(data_descriptor.Percentage) >= 2.0]\n",
    "data_descriptor = data_descriptor.reset_index()\n",
    "data_descriptor = data_descriptor.drop(columns=['index'],axis=1)\n",
    "data_descriptor"
   ]
  },
  {
   "cell_type": "code",
   "execution_count": null,
   "id": "ee82f16a-40e4-4f35-98f0-5ea008c4a115",
   "metadata": {},
   "outputs": [],
   "source": [
    "# Applying the above procedure for Location Type-------------------\n",
    "\n",
    "data_location_type = np.around(((data_mod['Location Type'].value_counts()*100) / data_mod['Location Type'].value_counts().sum()),\n",
    "                            decimals=2)\n",
    "data_location_type = data_location_type.to_frame()\n",
    "data_location_type = data_location_type.rename(columns={'Location Type':'Percentage'})\n",
    "data_location_type['Location Type'] = data_location_type.index\n",
    "cols = data_location_type.columns.tolist()\n",
    "cols = cols[-1:]+cols[:-1]\n",
    "data_location_type = data_location_type[cols]\n",
    "data_location_type = data_location_type[(data_location_type.Percentage) >= 0.1]\n",
    "data_location_type = data_location_type.reset_index()\n",
    "data_location_type = data_location_type.drop(columns=['index'],axis=1)\n",
    "data_location_type"
   ]
  },
  {
   "cell_type": "code",
   "execution_count": null,
   "id": "ccdbe2d0-ca91-482d-811e-a2a28428ec17",
   "metadata": {},
   "outputs": [],
   "source": [
    "# Applying the above procedure for City-------------------\n",
    "\n",
    "data_city = np.around(((data_mod['City'].value_counts()*100) / data_mod['City'].value_counts().sum()),\n",
    "                            decimals=2)\n",
    "data_city = data_city.to_frame()\n",
    "data_city = data_city.rename(columns={'City':'Percentage'})\n",
    "data_city['City'] = data_city.index\n",
    "cols = data_city.columns.tolist()\n",
    "cols = cols[-1:]+cols[:-1]\n",
    "data_city = data_city[cols]\n",
    "data_city = data_city[(data_city.Percentage) >= 1.0]\n",
    "data_city = data_city.reset_index()\n",
    "data_city = data_city.drop(columns=['index'],axis=1)\n",
    "data_city"
   ]
  },
  {
   "cell_type": "code",
   "execution_count": null,
   "id": "08f4bd4e-4d12-4c16-b1fa-b0162e969863",
   "metadata": {},
   "outputs": [],
   "source": [
    "# Applying the above procedure for Address Type-------------------\n",
    "\n",
    "data_address_type = np.around(((data_mod['Address Type'].value_counts()*100) / data_mod['Address Type'].value_counts().sum()),\n",
    "                            decimals=2)\n",
    "data_address_type = data_address_type.to_frame()\n",
    "data_address_type = data_address_type.rename(columns={'Address Type':'Percentage'})\n",
    "data_address_type['Address Type'] = data_address_type.index\n",
    "cols = data_address_type.columns.tolist()\n",
    "cols = cols[-1:]+cols[:-1]\n",
    "data_address_type = data_address_type[cols]\n",
    "#data_address_type = data_address_type[(data_address_type.Percentage) >= 1.0]\n",
    "data_address_type = data_address_type.reset_index()\n",
    "data_address_type = data_address_type.drop(columns=['index'],axis=1)\n",
    "data_address_type"
   ]
  },
  {
   "cell_type": "code",
   "execution_count": null,
   "id": "e7fedd31-b1e8-4ff6-ab86-b006a52ce487",
   "metadata": {},
   "outputs": [],
   "source": [
    "fig, ax = plt.subplots(2, 2, figsize=(12, 10))\n",
    "\n",
    "#sns.set_theme(style=\"whitegrid\")\n",
    "#plt.suptitle(\"Proportion of different outcomes for few interesting features.\")\n",
    "\n",
    "descriptor = sns.barplot(ax=ax[0,0],x=data_descriptor.Descriptor,y=data_descriptor.Percentage,)\n",
    "descriptor.set_xticklabels(descriptor.get_xticklabels(), rotation=30, ha=\"right\")\n",
    "\n",
    "location_type = sns.barplot(ax=ax[0,1],x=data_location_type['Location Type'],y=data_location_type.Percentage,)\n",
    "location_type.set_xticklabels(location_type.get_xticklabels(), rotation=30, ha=\"right\")\n",
    "\n",
    "city = sns.barplot(ax=ax[1,0],x=data_city['City'],y=data_city.Percentage,)\n",
    "city.set_xticklabels(city.get_xticklabels(), rotation=30, ha=\"right\")\n",
    "\n",
    "address = sns.barplot(ax=ax[1,1],x=data_address_type['Address Type'],y=data_address_type.Percentage,)\n",
    "address.set_xticklabels(address.get_xticklabels(), rotation=30, ha=\"right\")\n",
    "\n",
    "\n",
    "#plt.subplots_adjust(left=None, bottom=None, right=None, top=0.0, wspace=None, hspace=None)\n",
    "plt.tight_layout()"
   ]
  },
  {
   "cell_type": "code",
   "execution_count": null,
   "id": "f122a322-230c-46f0-b27b-5d58502e581a",
   "metadata": {},
   "outputs": [],
   "source": [
    "data_place_CType_RCTime = data_mod[['City','Complaint Type','Request_Closing_Time']]\n",
    "data_place_CType_RCTime.dropna(subset = ['City','Complaint Type','Request_Closing_Time'], inplace = True)\n",
    "data_place_CType_RCTime['DeltaT(in_hr.)'] = np.around( (data_place_CType_RCTime['Request_Closing_Time'].astype(np.int64)/\n",
    "                                                      (pow(10,9)*3600) ), decimals=2)\n",
    "neg_time = data_place_CType_RCTime[data_place_CType_RCTime['DeltaT(in_hr.)'] < 0].sum()\n",
    "print('The no negative time difference (Created Time > Clossing Time, which is not possible) = \\n',neg_time)\n",
    "#data_place_CType_RCTime['DeltaT(in sec)/Avg.'] = np.around((data_place_CType_RCTime['DeltaT(in sec)']/Avarage_time),decimals=1)\n",
    "data_place_CType_RCTime.head(6)"
   ]
  },
  {
   "cell_type": "code",
   "execution_count": null,
   "id": "648b337e-d7f4-479e-96f3-cc128e3e1436",
   "metadata": {},
   "outputs": [],
   "source": [
    "Avarage_time = np.around((data_place_CType_RCTime['DeltaT(in_hr.)'].mean()),decimals=2)\n",
    "print('Avarage time gap between logging the complaint and problem solved = ',Avarage_time, 'hour')\n",
    "Central_val = np.around((data_place_CType_RCTime['DeltaT(in_hr.)'].median()),decimals=2)\n",
    "print('Central value of the distribution = ',Central_val, 'hour')\n",
    "Most_occoor = np.around((data_place_CType_RCTime['DeltaT(in_hr.)'].mode()),decimals=2)\n",
    "print('Most occered value = ',Most_occoor, 'hour')\n",
    "stand_dev = np.around((data_place_CType_RCTime['DeltaT(in_hr.)'].std()),decimals=2)\n",
    "print('Deviation is = ',stand_dev)"
   ]
  },
  {
   "cell_type": "code",
   "execution_count": null,
   "id": "b96a4431-3a4e-4e10-b82f-8fe8a0938564",
   "metadata": {},
   "outputs": [],
   "source": [
    "conditions = [data_place_CType_RCTime['DeltaT(in_hr.)'] <= 0.5, \n",
    "             (0.50 < data_place_CType_RCTime['DeltaT(in_hr.)']) & (data_place_CType_RCTime['DeltaT(in_hr.)'] <= 1.00),\n",
    "             (1.00 < data_place_CType_RCTime['DeltaT(in_hr.)']) & (data_place_CType_RCTime['DeltaT(in_hr.)'] <= 2.00),\n",
    "             (2.00 < data_place_CType_RCTime['DeltaT(in_hr.)']) & (data_place_CType_RCTime['DeltaT(in_hr.)'] <= 6.00),\n",
    "             (6.00 < data_place_CType_RCTime['DeltaT(in_hr.)']) & (data_place_CType_RCTime['DeltaT(in_hr.)'] <= 10.00),\n",
    "             (10.00 < data_place_CType_RCTime['DeltaT(in_hr.)'])]\n",
    "\n",
    "choices = ['Super fast','Very fast','Fast','Normal','Slow','Super Slow']\n",
    "\n",
    "data_place_CType_RCTime['Solution Status'] = np.select(conditions,choices)"
   ]
  },
  {
   "cell_type": "code",
   "execution_count": null,
   "id": "cba4e809-d978-4706-9453-f2eaf3ff4d09",
   "metadata": {},
   "outputs": [],
   "source": [
    "data_place_CType_RCTime.head(6)"
   ]
  },
  {
   "cell_type": "code",
   "execution_count": null,
   "id": "67e5d79e-3c2c-4aa5-b9f9-7209f5790bb4",
   "metadata": {},
   "outputs": [],
   "source": [
    "data_place_CType_RCTime['Solution Status'].value_counts()"
   ]
  },
  {
   "cell_type": "code",
   "execution_count": null,
   "id": "7b6a0a93-0f6e-43db-96ab-fcf44fd77bed",
   "metadata": {},
   "outputs": [],
   "source": [
    "data_place_CType_RCTime['Solution Status'].value_counts().plot(kind='bar')\n",
    "plt.xlabel('Time Status')\n",
    "plt.ylabel('Counts')\n",
    "plt.title('Proportion of the fastness of different Solution status')\n",
    "plt.show()\n",
    "plt.tight_layout()"
   ]
  },
  {
   "cell_type": "code",
   "execution_count": null,
   "id": "04f27bb9-01d9-4f65-a414-aa8fbbd9ad88",
   "metadata": {},
   "outputs": [],
   "source": [
    "data_mod['Created Date'].head(5)"
   ]
  },
  {
   "cell_type": "code",
   "execution_count": null,
   "id": "ca3133f1-174f-49c4-a72c-f1b39f311934",
   "metadata": {},
   "outputs": [],
   "source": [
    "# Creating a data frame Contain Days and Months of Complaint date -----------------------------\n",
    "\n",
    "Year_Month_Day = pd.to_datetime(data_mod['Created Date'].dt.date)\n",
    "Month_Day = pd.DataFrame()\n",
    "Month_Day['Date'] = pd.to_datetime(Year_Month_Day.dt.date)\n",
    "Month_Day['Month'] = Year_Month_Day.dt.month\n",
    "Month_Day['Day'] = Year_Month_Day.dt.day\n",
    "Month_Day['Month Name'] = Month_Day['Month'].apply(lambda x: calendar.month_abbr[x])\n",
    "Month_Day['Day No'] = Month_Day['Date'].dt.weekday\n",
    "Month_Day['Day Name'] = Month_Day['Day No'].map({0:'Monday',1:'Tuesday',2:'Wednesday',3:'Thursday',4:'Friday',\n",
    "                                                 5:'Saturday',6:'Sunday'})\n",
    "Month_Day.sample(20)"
   ]
  },
  {
   "cell_type": "code",
   "execution_count": null,
   "id": "98393d85-7c47-4f60-8ee3-ac4d99ed065d",
   "metadata": {},
   "outputs": [],
   "source": [
    "Month_plot = Month_Day['Month Name'].value_counts()\n",
    "Month_plot = Month_plot.to_frame()\n",
    "Month_plot = Month_plot.rename(columns={'Month Name':'Counts'})\n",
    "Month_plot"
   ]
  },
  {
   "cell_type": "code",
   "execution_count": null,
   "id": "5e510fdd-8e5e-4b2e-82ab-7f7ce9644368",
   "metadata": {},
   "outputs": [],
   "source": [
    "Day_plot = Month_Day['Day Name'].value_counts()\n",
    "Day_plot = Day_plot.to_frame()\n",
    "Day_plot = Day_plot.rename(columns={'Day Name':'Counts'})\n",
    "Day_plot"
   ]
  },
  {
   "cell_type": "code",
   "execution_count": null,
   "id": "87e8619f-58da-495d-8c16-69afd0c98add",
   "metadata": {},
   "outputs": [],
   "source": [
    "fig, axes = plt.subplots(1,2, figsize=(14,8))\n",
    "\n",
    "axes[0].pie(Month_plot['Counts'], labels = Month_plot.index,autopct='%1.1f%%')\n",
    "axes[0].set_title('Complain logged in different months of the year')\n",
    "\n",
    "axes[1].pie(Day_plot['Counts'], labels = Day_plot.index,autopct='%1.1f%%')\n",
    "axes[1].set_title('Complain logged in different days of the year')\n",
    "\n",
    "plt.tight_layout()"
   ]
  },
  {
   "cell_type": "code",
   "execution_count": null,
   "id": "c09d0017-b9b2-43af-8d51-c72f47c655f4",
   "metadata": {},
   "outputs": [],
   "source": [
    "Month_Day_grouped = Month_Day.groupby(['Month Name','Day Name'],as_index=False)['Day No'].count()\n",
    "Month_Day_grouped_final = Month_Day_grouped.rename(columns={'Day No':'Counts'})\n",
    "Month_Day_grouped_final.head(15)"
   ]
  },
  {
   "cell_type": "code",
   "execution_count": null,
   "id": "0115f032-2995-4fba-8205-6504f16ad17c",
   "metadata": {},
   "outputs": [],
   "source": [
    "Month_Day[( (Month_Day['Month Name'] == 'Apr') & (Month_Day['Day Name'] == 'Monday') )].count()"
   ]
  },
  {
   "cell_type": "code",
   "execution_count": null,
   "id": "9d29a341-2e85-4409-aad4-1cf71f3f7600",
   "metadata": {},
   "outputs": [],
   "source": [
    "plt.figure(figsize=(20,8))\n",
    "\n",
    "month_day_plot = sns.barplot(x=Month_Day_grouped_final['Month Name'], y=Month_Day_grouped_final['Counts'], \n",
    "                             hue=Month_Day_grouped_final['Day Name'], data=Month_Day_grouped_final)\n",
    "month_day_plot.set_xticklabels(month_day_plot.get_xticklabels(), rotation=30, ha=\"right\")\n",
    "plt.title('Distribution of daily complain in different months of the year')\n",
    "plt.show()\n",
    "plt.tight_layout()"
   ]
  },
  {
   "cell_type": "code",
   "execution_count": null,
   "id": "a9a9df22-c0cf-4b80-b4fd-035ba65b7646",
   "metadata": {},
   "outputs": [],
   "source": [
    "Month_Day_grouped[Month_Day_grouped['Month Name'] == 'Mar']"
   ]
  },
  {
   "cell_type": "code",
   "execution_count": null,
   "id": "54fcfde3-5e62-49df-9c26-c764b1c6bfdc",
   "metadata": {},
   "outputs": [],
   "source": [
    "Month_Day_grouped[Month_Day_grouped['Month Name'] == 'Mar']"
   ]
  },
  {
   "cell_type": "code",
   "execution_count": null,
   "id": "bdffa6e0-f108-4acc-8053-c2c0389c5f0a",
   "metadata": {},
   "outputs": [],
   "source": [
    "Complaint_City_AvgTime_grouped = data_place_CType_RCTime.groupby(['City','Complaint Type']).agg({'DeltaT(in_hr.)':'mean'})\n",
    "Complaint_City_AvgTime_grouped = Complaint_City_AvgTime_grouped.rename(\n",
    "    columns={'DeltaT(in_hr.)':'Avg. Time(Given City, Complaint Type)'})\n",
    "Complaint_City_AvgTime_grouped = Complaint_City_AvgTime_grouped.transform('Avg. Time(Given City, Complaint Type)')\n",
    "Complaint_City_AvgTime_grouped = Complaint_City_AvgTime_grouped.to_frame()\n",
    "Complaint_City_AvgTime_grouped = Complaint_City_AvgTime_grouped.sort_values(\n",
    "    ['City','Avg. Time(Given City, Complaint Type)'])\n",
    "\n",
    "pd.set_option('display.max_rows', None)\n",
    "pd.set_option('display.max_columns', None)\n",
    "Complaint_City_AvgTime_grouped"
   ]
  },
  {
   "cell_type": "markdown",
   "id": "15e5b546-b554-4309-a133-a797fe35beef",
   "metadata": {},
   "source": [
    "# performing statistical analysis using p-values"
   ]
  },
  {
   "cell_type": "code",
   "execution_count": null,
   "id": "46224419-db99-46c4-b1ec-47c7e11c126f",
   "metadata": {},
   "outputs": [],
   "source": [
    "import scipy.stats as stat"
   ]
  },
  {
   "cell_type": "code",
   "execution_count": null,
   "id": "59f6fd66-4363-44db-8056-b915b6d0cbe4",
   "metadata": {},
   "outputs": [],
   "source": [
    "# Average response time across complaint types --------------------\n",
    "\n",
    "Complaint_AvgTime = data_place_CType_RCTime.groupby(['Complaint Type']).agg({'DeltaT(in_hr.)':'mean'})\n",
    "Complaint_AvgTime = pd.DataFrame(Complaint_AvgTime)\n",
    "Complaint_AvgTime = Complaint_AvgTime.sort_values(['DeltaT(in_hr.)']).reset_index()\n",
    "Complaint_AvgTime"
   ]
  },
  {
   "cell_type": "code",
   "execution_count": null,
   "id": "6fcb1ba1-0928-4fc7-9b1d-efd10f92a798",
   "metadata": {},
   "outputs": [],
   "source": [
    "Tmean_without = float(Complaint_AvgTime[Complaint_AvgTime['Complaint Type']!='Animal in a Park'].mean())\n",
    "print(\"Without complaint type 'Animal in a Park' ----- \",Tmean_without)\n",
    "Tmean_with = float(Complaint_AvgTime['DeltaT(in_hr.)'].mean())\n",
    "print(\"With complaint type 'Animal in a Park' ----- \",Tmean_with)"
   ]
  },
  {
   "cell_type": "code",
   "execution_count": null,
   "id": "69acaa52-9db2-474c-a6d9-12331dcb18d6",
   "metadata": {},
   "outputs": [],
   "source": [
    "ttest_with, pval_with = stat.ttest_1samp(Complaint_AvgTime['DeltaT(in_hr.)'], Tmean_with)\n",
    "print('T-statistic is =',ttest_with)\n",
    "print('p value is =',np.around(pval_with))"
   ]
  },
  {
   "cell_type": "code",
   "execution_count": null,
   "id": "95be6de0-4b78-467e-947f-337610a887e2",
   "metadata": {},
   "outputs": [],
   "source": [
    "if (pval_with<0.05):\n",
    "    print('Null hypothesis is rejected since p value ({}) is less than 0.05'.format(np.around(pval_with,decimals=2)))\n",
    "else:\n",
    "    print('Null hypothesis is accepted since p value ({}) is greater than 0.05'.format(np.around(pval_with,decimals=2)))"
   ]
  },
  {
   "cell_type": "code",
   "execution_count": null,
   "id": "c3f1720e-ed4e-4032-9108-1789f2dab8d0",
   "metadata": {},
   "outputs": [],
   "source": [
    "Complaint_AvgTime_without = Complaint_AvgTime.drop([len(Complaint_AvgTime)-1],axis=0)\n",
    "Complaint_AvgTime_without"
   ]
  },
  {
   "cell_type": "code",
   "execution_count": null,
   "id": "a4218a4c-3a17-4294-9bb8-efdad58d1dfb",
   "metadata": {},
   "outputs": [],
   "source": [
    "ttest_without, pval_without = stat.ttest_1samp(Complaint_AvgTime_without['DeltaT(in_hr.)'], Tmean_without)\n",
    "print('T-statistic is =',ttest_without)\n",
    "print('p value is =',np.around(pval_without,decimals=8))"
   ]
  },
  {
   "cell_type": "code",
   "execution_count": null,
   "id": "4b602d42-3bb9-4797-b166-9cda7e732c63",
   "metadata": {},
   "outputs": [],
   "source": [
    "if (pval_without<0.05):\n",
    "    print('Null hypothesis is rejected since p value ({}) is less than 0.05'.format(np.around(pval_without,decimals=2)))\n",
    "else:\n",
    "    print('Null hypothesis is accepted since p value ({}) is greater than 0.05'.format(np.around(pval_without,decimals=2)))"
   ]
  },
  {
   "cell_type": "code",
   "execution_count": null,
   "id": "b6805915-5984-405e-80b8-9b771ca93d63",
   "metadata": {},
   "outputs": [],
   "source": [
    "sample1 = Complaint_AvgTime.sample(frac=.5)\n",
    "sample1"
   ]
  },
  {
   "cell_type": "code",
   "execution_count": null,
   "id": "5ad939ec-ba82-4af4-8bef-0c9bb43507c4",
   "metadata": {},
   "outputs": [],
   "source": [
    "sample2 = Complaint_AvgTime.drop(sample1.index)\n",
    "sample2"
   ]
  },
  {
   "cell_type": "code",
   "execution_count": null,
   "id": "035e93b2-daf8-47a1-8e93-5cb41dc87e2e",
   "metadata": {},
   "outputs": [],
   "source": [
    "print('Mean of 1st sample =',np.around(float(sample1['DeltaT(in_hr.)'].mean()),decimals=2))\n",
    "print('Standard dev. of 1st sample =',np.around(float(sample1['DeltaT(in_hr.)'].std()),decimals=2))\n",
    "print('Mean of 2nd sample =',np.around(float(sample2['DeltaT(in_hr.)'].mean()),decimals=2))\n",
    "print('Standard dev. of 2nd sample =',np.around(float(sample2['DeltaT(in_hr.)'].std()),decimals=2))"
   ]
  },
  {
   "cell_type": "code",
   "execution_count": null,
   "id": "6516e218-7010-4ef6-b390-b6b567f5a368",
   "metadata": {},
   "outputs": [],
   "source": [
    "ttest_2sp, p_val = stat.ttest_ind(sample1['DeltaT(in_hr.)'],sample2['DeltaT(in_hr.)'])\n",
    "print('T-statistic is =',ttest_2sp)\n",
    "print('p value is =',np.around(p_val,decimals=2))"
   ]
  },
  {
   "cell_type": "code",
   "execution_count": null,
   "id": "9817b138-1f6b-4acc-a202-a9cbf9338797",
   "metadata": {},
   "outputs": [],
   "source": [
    "if (p_val<0.05):\n",
    "    print('Null hypothesis is rejected since p value ({}) is less than 0.05'.format(np.around(p_val,decimals=2)))\n",
    "else:\n",
    "    print('Null hypothesis is accepted since p value ({}) is greater than 0.05'.format(np.around(p_val,decimals=2)))"
   ]
  },
  {
   "cell_type": "code",
   "execution_count": null,
   "id": "0a80714e-4f71-4bae-b4bc-70f34bf707b1",
   "metadata": {},
   "outputs": [],
   "source": [
    "sample1_anova = Complaint_AvgTime.sample(frac=1/3)\n",
    "sample1_anova"
   ]
  },
  {
   "cell_type": "code",
   "execution_count": null,
   "id": "2a67c4b1-93b9-4aab-9d6f-7e1841d74559",
   "metadata": {},
   "outputs": [],
   "source": [
    "rest_data = Complaint_AvgTime.drop(sample1_anova.index)\n",
    "rest_data"
   ]
  },
  {
   "cell_type": "code",
   "execution_count": null,
   "id": "0f9b1235-ec02-4426-b302-a99f4c1e1aea",
   "metadata": {},
   "outputs": [],
   "source": [
    "sample2_anova = rest_data.sample(frac=1/2)\n",
    "sample2_anova"
   ]
  },
  {
   "cell_type": "code",
   "execution_count": null,
   "id": "29d8091f-7649-4439-8225-286ce92d477b",
   "metadata": {},
   "outputs": [],
   "source": [
    "sample3_anova = rest_data.drop(sample2_anova.index)\n",
    "sample3_anova"
   ]
  },
  {
   "cell_type": "code",
   "execution_count": null,
   "id": "1d85ea3e-5e08-4337-9103-d28415427d7f",
   "metadata": {},
   "outputs": [],
   "source": [
    "print('Mean of 1st sample =',np.around(float(sample1_anova['DeltaT(in_hr.)'].mean()),decimals=2))\n",
    "print('Standard dev. of 1st sample =',np.around(float(sample1_anova['DeltaT(in_hr.)'].std()),decimals=2))\n",
    "print('Mean of 2nd sample =',np.around(float(sample2_anova['DeltaT(in_hr.)'].mean()),decimals=2))\n",
    "print('Standard dev. of 2nd sample =',np.around(float(sample2_anova['DeltaT(in_hr.)'].std()),decimals=2))\n",
    "print('Mean of 3rd sample =',np.around(float(sample3_anova['DeltaT(in_hr.)'].mean()),decimals=2))\n",
    "print('Standard dev. of 3rd sample =',np.around(float(sample3_anova['DeltaT(in_hr.)'].std()),decimals=2))"
   ]
  },
  {
   "cell_type": "code",
   "execution_count": null,
   "id": "6b85b3d3-ad88-4b7b-82fb-a9432f336414",
   "metadata": {},
   "outputs": [],
   "source": [
    "f_val,p_val = stat.shapiro(sample1_anova['DeltaT(in_hr.)'])\n",
    "print('F-statistic is =',f_val)\n",
    "print('p value is =',np.around(p_val,decimals=2))"
   ]
  },
  {
   "cell_type": "code",
   "execution_count": null,
   "id": "35a5413c-c9db-406b-b6aa-2c8b2808730f",
   "metadata": {},
   "outputs": [],
   "source": [
    "f_val,p_val = stat.shapiro(sample2_anova['DeltaT(in_hr.)'])\n",
    "print('F-statistic is =',f_val)\n",
    "print('p value is =',np.around(p_val,decimals=2))"
   ]
  },
  {
   "cell_type": "code",
   "execution_count": null,
   "id": "eb2c1b67-4c84-4547-9460-63992a490111",
   "metadata": {},
   "outputs": [],
   "source": [
    "f_val,p_val = stat.shapiro(sample3_anova['DeltaT(in_hr.)'])\n",
    "print('F-statistic is =',f_val)\n",
    "print('p value is =',np.around(p_val,decimals=2))"
   ]
  },
  {
   "cell_type": "code",
   "execution_count": null,
   "id": "d0f068bb-c168-4745-b370-ec40835985e0",
   "metadata": {},
   "outputs": [],
   "source": [
    "f_val,p_val = stat.levene(sample1_anova['DeltaT(in_hr.)'],sample2_anova['DeltaT(in_hr.)'],sample3_anova['DeltaT(in_hr.)'])\n",
    "print('F-statistic is =',f_val)\n",
    "print('p value is =',np.around(p_val,decimals=2))"
   ]
  },
  {
   "cell_type": "code",
   "execution_count": null,
   "id": "87298f87-1fc4-4bb9-811e-4065949a79f2",
   "metadata": {},
   "outputs": [],
   "source": [
    "if (p_val<0.05):\n",
    "    print('Null hypothesis is rejected since p value ({}) is less than 0.05'.format(np.around(p_val,decimals=2)))\n",
    "else:\n",
    "    print('Null hypothesis is accepted since p value ({}) is greater than 0.05'.format(np.around(p_val,decimals=2)))"
   ]
  },
  {
   "cell_type": "code",
   "execution_count": null,
   "id": "27ce77d4-8120-4f93-8c2a-082f72c9f9d6",
   "metadata": {},
   "outputs": [],
   "source": [
    "t_val,p_val = stat.ttest_ind(sample1_anova['DeltaT(in_hr.)'],sample2_anova['DeltaT(in_hr.)'])\n",
    "print('T-statistic for sample 1 and 2 is =',t_val)\n",
    "print('p value is =',np.around(p_val,decimals=2))"
   ]
  },
  {
   "cell_type": "code",
   "execution_count": null,
   "id": "32bdfcc5-ab43-4714-a7d8-03a8dbc9b986",
   "metadata": {},
   "outputs": [],
   "source": [
    "t_val,p_val = stat.ttest_ind(sample1_anova['DeltaT(in_hr.)'],sample3_anova['DeltaT(in_hr.)'])\n",
    "print('T-statistic for sample 1 and 3 is =',t_val)\n",
    "print('p value is =',np.around(p_val,decimals=2))"
   ]
  },
  {
   "cell_type": "code",
   "execution_count": null,
   "id": "88dbe589-529c-41b9-b68c-c4f4c5238709",
   "metadata": {},
   "outputs": [],
   "source": [
    "t_val,p_val = stat.ttest_ind(sample2_anova['DeltaT(in_hr.)'],sample3_anova['DeltaT(in_hr.)'])\n",
    "print('T-statistic for sample 2 and 3 is =',t_val)\n",
    "print('p value is =',np.around(p_val,decimals=2))"
   ]
  },
  {
   "cell_type": "code",
   "execution_count": null,
   "id": "5232f441-c069-4f7f-b9d9-1c0f334536e5",
   "metadata": {},
   "outputs": [],
   "source": [
    "print('Null data in Complaint Type =',data_mod['Complaint Type'].isnull().sum())\n",
    "print('Null data in City =',data_mod['City'].isnull().sum())"
   ]
  },
  {
   "cell_type": "code",
   "execution_count": null,
   "id": "a1f1dff7-ec55-46de-84cc-1098d0c64302",
   "metadata": {},
   "outputs": [],
   "source": [
    "df_cc = data_mod[['Complaint Type','City']]\n",
    "df_cc = df_cc.dropna()\n",
    "#df_cc.isnull().sum()\n",
    "#df_cc"
   ]
  },
  {
   "cell_type": "code",
   "execution_count": null,
   "id": "926620e3-b0e2-4db2-b4cc-b64f7129794d",
   "metadata": {},
   "outputs": [],
   "source": [
    "City_Complaint = pd.crosstab(data_mod['Complaint Type'],data_mod['City'],margins=True, margins_name='Total')\n",
    "#City_Complaint = pd.crosstab(df_cc['Complaint Type'],df_cc['City'])\n",
    "City_Complaint.head(6)"
   ]
  },
  {
   "cell_type": "code",
   "execution_count": null,
   "id": "b80ff2f9-6e88-43f5-ac18-9e373683c581",
   "metadata": {},
   "outputs": [],
   "source": [
    "print(\"For 'ARVERNE' and 'ASTORIA' pair -------\")\n",
    "f_val,p_val = stat.f_oneway(City_Complaint['ARVERNE'],City_Complaint['ASTORIA'])\n",
    "print('F-statistic is =',f_val)\n",
    "print('p value is =',np.around(p_val,decimals=2))"
   ]
  },
  {
   "cell_type": "code",
   "execution_count": null,
   "id": "5c0ee932-5246-4b2b-b320-ae8aaf736099",
   "metadata": {},
   "outputs": [],
   "source": [
    "print(\"For 'ARVERNE' and 'BROOKLYN' pair -------\")\n",
    "f_val,p_val = stat.f_oneway(City_Complaint['ARVERNE'],City_Complaint['BROOKLYN'])\n",
    "print('F-statistic is =',f_val)\n",
    "print('p value is =',np.around(p_val,decimals=2))"
   ]
  },
  {
   "cell_type": "code",
   "execution_count": null,
   "id": "b68bdd63-aa30-4a95-bb46-d9b305786dda",
   "metadata": {},
   "outputs": [],
   "source": [
    "print(\"For 'HOLLIS' and 'JAMAICA' pair -------\")\n",
    "f_val,p_val = stat.f_oneway(City_Complaint['HOLLIS'],City_Complaint['JAMAICA'])\n",
    "print('F-statistic is =',f_val)\n",
    "print('p value is =',np.around(p_val,decimals=2))"
   ]
  },
  {
   "cell_type": "code",
   "execution_count": null,
   "id": "12ffd707-64f4-44a5-bb04-4b3f5ea454a1",
   "metadata": {},
   "outputs": [],
   "source": [
    "print(\"For 'MASPETH' and 'QUEENS' pair -------\")\n",
    "f_val,p_val = stat.f_oneway(City_Complaint['MASPETH'],City_Complaint['QUEENS'])\n",
    "print('F-statistic is =',f_val)\n",
    "print('p value is =',np.around(p_val,decimals=2))"
   ]
  },
  {
   "cell_type": "markdown",
   "id": "c9f465f6-172c-468a-a08e-079c2fbd6932",
   "metadata": {},
   "source": [
    "# Chi square test"
   ]
  },
  {
   "cell_type": "code",
   "execution_count": null,
   "id": "2700ea0c-90bb-406f-8cd0-c2ff71bf49f7",
   "metadata": {},
   "outputs": [],
   "source": [
    "chai2, p_val, df, exp_frq = stat.chi2_contingency(City_Complaint)"
   ]
  },
  {
   "cell_type": "code",
   "execution_count": null,
   "id": "3ba165b3-a383-4450-bbd5-76631949abcc",
   "metadata": {},
   "outputs": [],
   "source": [
    "print('Chai square value =',chai2)\n",
    "print('p-value is =',p_val)"
   ]
  },
  {
   "cell_type": "code",
   "execution_count": null,
   "id": "83876708-53e7-4c99-af34-69f1fb715d7d",
   "metadata": {},
   "outputs": [],
   "source": [
    "if (p_val<0.05):\n",
    "    print('Null hypothesis is rejected since p value ({}) is less than 0.05'.format(np.around(p_val,decimals=2)))\n",
    "else:\n",
    "    print('Null hypothesis is accepted since p value ({}) is greater than 0.05'.format(np.around(p_val,decimals=2)))"
   ]
  },
  {
   "cell_type": "code",
   "execution_count": null,
   "id": "1fb1f506-a6a3-4d2f-ab48-755c0263b02e",
   "metadata": {},
   "outputs": [],
   "source": []
  }
 ],
 "metadata": {
  "kernelspec": {
   "display_name": "Python 3 (ipykernel)",
   "language": "python",
   "name": "python3"
  },
  "language_info": {
   "codemirror_mode": {
    "name": "ipython",
    "version": 3
   },
   "file_extension": ".py",
   "mimetype": "text/x-python",
   "name": "python",
   "nbconvert_exporter": "python",
   "pygments_lexer": "ipython3",
   "version": "3.11.4"
  }
 },
 "nbformat": 4,
 "nbformat_minor": 5
}
